{
 "cells": [
  {
   "cell_type": "code",
   "execution_count": 1,
   "metadata": {
    "ExecuteTime": {
     "end_time": "2021-04-21T05:44:09.584530Z",
     "start_time": "2021-04-21T05:44:06.274530Z"
    }
   },
   "outputs": [],
   "source": [
    "import pandas as pd\n",
    "import numpy as np\n",
    "import pandas as pd\n",
    "import os\n",
    "\n",
    "import matplotlib.pyplot as plt\n",
    "import seaborn as sns\n",
    "\n",
    "from sklearn.preprocessing import MinMaxScaler\n",
    "from sklearn.linear_model import LogisticRegression\n",
    "from sklearn.model_selection import train_test_split\n",
    "from sklearn.metrics import plot_confusion_matrix\n",
    "from sklearn.metrics import confusion_matrix, classification_report\n",
    "from sklearn.metrics import roc_curve, auc\n",
    "from sklearn.metrics import precision_score, recall_score, accuracy_score, f1_score\n",
    "from sklearn.preprocessing import StandardScaler\n",
    "from sklearn.neighbors import KNeighborsClassifier\n",
    "from sklearn.tree import DecisionTreeClassifier\n",
    "from sklearn.tree import plot_tree\n",
    "from sklearn.utils import resample\n",
    "from imblearn.over_sampling import SMOTE\n",
    "\n",
    "from sklearn.ensemble import BaggingClassifier, RandomForestClassifier\n",
    "from sklearn.model_selection import GridSearchCV, cross_val_score\n",
    "from sklearn.ensemble import AdaBoostClassifier, GradientBoostingClassifier\n",
    "from xgboost import XGBClassifier\n",
    "\n",
    "from sklearn import tree\n",
    "import xgboost as xgb\n",
    "from numpy import loadtxt\n",
    "from xgboost import XGBClassifier\n",
    "from xgboost import plot_tree\n",
    "\n",
    "import gc\n",
    "from tqdm import tqdm"
   ]
  },
  {
   "cell_type": "code",
   "execution_count": 2,
   "metadata": {
    "ExecuteTime": {
     "end_time": "2021-04-21T05:44:09.696530Z",
     "start_time": "2021-04-21T05:44:09.619531Z"
    }
   },
   "outputs": [
    {
     "data": {
      "text/plain": [
       "Index(['Description'], dtype='object')"
      ]
     },
     "execution_count": 2,
     "metadata": {},
     "output_type": "execute_result"
    }
   ],
   "source": [
    "column_defs = pd.read_excel('data\\LCDataDictionary.xlsx',index_col='LoanStatNew')\n",
    "column_defs.columns"
   ]
  },
  {
   "cell_type": "code",
   "execution_count": 3,
   "metadata": {
    "ExecuteTime": {
     "end_time": "2021-04-21T05:44:15.432531Z",
     "start_time": "2021-04-21T05:44:15.412531Z"
    },
    "scrolled": false
   },
   "outputs": [
    {
     "data": {
      "text/html": [
       "<div>\n",
       "<style scoped>\n",
       "    .dataframe tbody tr th:only-of-type {\n",
       "        vertical-align: middle;\n",
       "    }\n",
       "\n",
       "    .dataframe tbody tr th {\n",
       "        vertical-align: top;\n",
       "    }\n",
       "\n",
       "    .dataframe thead th {\n",
       "        text-align: right;\n",
       "    }\n",
       "</style>\n",
       "<table border=\"1\" class=\"dataframe\">\n",
       "  <thead>\n",
       "    <tr style=\"text-align: right;\">\n",
       "      <th></th>\n",
       "      <th>Description</th>\n",
       "    </tr>\n",
       "    <tr>\n",
       "      <th>LoanStatNew</th>\n",
       "      <th></th>\n",
       "    </tr>\n",
       "  </thead>\n",
       "  <tbody>\n",
       "    <tr>\n",
       "      <th>acc_now_delinq</th>\n",
       "      <td>The number of accounts on which the borrower i...</td>\n",
       "    </tr>\n",
       "    <tr>\n",
       "      <th>acc_open_past_24mths</th>\n",
       "      <td>Number of trades opened in past 24 months.</td>\n",
       "    </tr>\n",
       "    <tr>\n",
       "      <th>addr_state</th>\n",
       "      <td>The state provided by the borrower in the loan...</td>\n",
       "    </tr>\n",
       "    <tr>\n",
       "      <th>all_util</th>\n",
       "      <td>Balance to credit limit on all trades</td>\n",
       "    </tr>\n",
       "    <tr>\n",
       "      <th>annual_inc</th>\n",
       "      <td>The self-reported annual income provided by th...</td>\n",
       "    </tr>\n",
       "    <tr>\n",
       "      <th>...</th>\n",
       "      <td>...</td>\n",
       "    </tr>\n",
       "    <tr>\n",
       "      <th>settlement_amount</th>\n",
       "      <td>The loan amount that the borrower has agreed t...</td>\n",
       "    </tr>\n",
       "    <tr>\n",
       "      <th>settlement_percentage</th>\n",
       "      <td>The settlement amount as a percentage of the p...</td>\n",
       "    </tr>\n",
       "    <tr>\n",
       "      <th>settlement_term</th>\n",
       "      <td>The number of months that the borrower will be...</td>\n",
       "    </tr>\n",
       "    <tr>\n",
       "      <th>NaN</th>\n",
       "      <td>NaN</td>\n",
       "    </tr>\n",
       "    <tr>\n",
       "      <th>NaN</th>\n",
       "      <td>* Employer Title replaces Employer Name for al...</td>\n",
       "    </tr>\n",
       "  </tbody>\n",
       "</table>\n",
       "<p>153 rows × 1 columns</p>\n",
       "</div>"
      ],
      "text/plain": [
       "                                                             Description\n",
       "LoanStatNew                                                             \n",
       "acc_now_delinq         The number of accounts on which the borrower i...\n",
       "acc_open_past_24mths          Number of trades opened in past 24 months.\n",
       "addr_state             The state provided by the borrower in the loan...\n",
       "all_util                           Balance to credit limit on all trades\n",
       "annual_inc             The self-reported annual income provided by th...\n",
       "...                                                                  ...\n",
       "settlement_amount      The loan amount that the borrower has agreed t...\n",
       "settlement_percentage  The settlement amount as a percentage of the p...\n",
       "settlement_term        The number of months that the borrower will be...\n",
       "NaN                                                                  NaN\n",
       "NaN                    * Employer Title replaces Employer Name for al...\n",
       "\n",
       "[153 rows x 1 columns]"
      ]
     },
     "execution_count": 3,
     "metadata": {},
     "output_type": "execute_result"
    }
   ],
   "source": [
    "column_defs"
   ]
  },
  {
   "cell_type": "code",
   "execution_count": 4,
   "metadata": {
    "ExecuteTime": {
     "end_time": "2021-04-21T05:44:29.763530Z",
     "start_time": "2021-04-21T05:44:29.748529Z"
    }
   },
   "outputs": [],
   "source": [
    "def column_info(col_name):\n",
    "    return column_defs.loc[col_name]['Description']"
   ]
  },
  {
   "cell_type": "code",
   "execution_count": 24,
   "metadata": {
    "ExecuteTime": {
     "end_time": "2021-04-21T05:56:24.231675Z",
     "start_time": "2021-04-21T05:56:24.218644Z"
    }
   },
   "outputs": [
    {
     "data": {
      "text/plain": [
       "136                          hardship_loan_status\n",
       "127                               hardship_reason\n",
       "128                               hardship_status\n",
       "135                                  hardship_dpd\n",
       "133                       payment_plan_start_date\n",
       "126                                 hardship_type\n",
       "129                                 deferral_term\n",
       "131                           hardship_start_date\n",
       "132                             hardship_end_date\n",
       "134                               hardship_length\n",
       "137    orig_projected_additional_accrued_interest\n",
       "130                               hardship_amount\n",
       "138                hardship_payoff_balance_amount\n",
       "139                  hardship_last_payment_amount\n",
       "120                            sec_app_revol_util\n",
       "57                      verification_status_joint\n",
       "113                               revol_bal_joint\n",
       "119                              sec_app_open_acc\n",
       "116                      sec_app_earliest_cr_line\n",
       "118                              sec_app_mort_acc\n",
       "117                        sec_app_inq_last_6mths\n",
       "123              sec_app_chargeoff_within_12_mths\n",
       "124            sec_app_collections_12_mths_ex_med\n",
       "122                         sec_app_num_rev_accts\n",
       "115                       sec_app_fico_range_high\n",
       "114                        sec_app_fico_range_low\n",
       "121                           sec_app_open_act_il\n",
       "56                                      dti_joint\n",
       "55                               annual_inc_joint\n",
       "29                         mths_since_last_record\n",
       "88                       mths_since_recent_bc_dlq\n",
       "52                    mths_since_last_major_derog\n",
       "90                 mths_since_recent_revol_delinq\n",
       "47                                   next_pymnt_d\n",
       "28                         mths_since_last_delinq\n",
       "67                                        il_util\n",
       "65                             mths_since_rcnt_il\n",
       "71                                       all_util\n",
       "61                                    open_acc_6m\n",
       "74                                    total_cu_tl\n",
       "75                                   inq_last_12m\n",
       "62                                    open_act_il\n",
       "63                                    open_il_12m\n",
       "64                                    open_il_24m\n",
       "66                                   total_bal_il\n",
       "68                                    open_rv_12m\n",
       "69                                    open_rv_24m\n",
       "73                                         inq_fi\n",
       "70                                     max_bal_bc\n",
       "Name: index, dtype: object"
      ]
     },
     "execution_count": 24,
     "metadata": {},
     "output_type": "execute_result"
    }
   ],
   "source": [
    "cols_to_drop"
   ]
  },
  {
   "cell_type": "code",
   "execution_count": 25,
   "metadata": {
    "ExecuteTime": {
     "end_time": "2021-04-21T05:57:09.794266Z",
     "start_time": "2021-04-21T05:57:09.774267Z"
    }
   },
   "outputs": [
    {
     "data": {
      "text/plain": [
       "67"
      ]
     },
     "execution_count": 25,
     "metadata": {},
     "output_type": "execute_result"
    }
   ],
   "source": [
    "len(columns_to_drop)"
   ]
  },
  {
   "cell_type": "code",
   "execution_count": 5,
   "metadata": {
    "ExecuteTime": {
     "end_time": "2021-04-21T05:44:30.869532Z",
     "start_time": "2021-04-21T05:44:30.859531Z"
    }
   },
   "outputs": [],
   "source": [
    "columns_to_drop = ['mths_since_last_delinq',\n",
    " 'mths_since_last_record',\n",
    " 'next_pymnt_d',\n",
    " 'mths_since_last_major_derog',\n",
    " 'annual_inc_joint',\n",
    " 'dti_joint',\n",
    " 'verification_status_joint',\n",
    " 'mths_since_rcnt_il',\n",
    " 'il_util',\n",
    " 'mths_since_recent_bc_dlq',\n",
    " 'mths_since_recent_revol_delinq',\n",
    " 'revol_bal_joint',\n",
    " 'sec_app_fico_range_low',\n",
    " 'sec_app_fico_range_high',\n",
    " 'sec_app_earliest_cr_line',\n",
    " 'sec_app_inq_last_6mths',\n",
    " 'sec_app_mort_acc',\n",
    " 'sec_app_open_acc',\n",
    " 'sec_app_revol_util',\n",
    " 'sec_app_open_act_il',\n",
    " 'sec_app_num_rev_accts',\n",
    " 'sec_app_chargeoff_within_12_mths',\n",
    " 'sec_app_collections_12_mths_ex_med',\n",
    " 'hardship_type',\n",
    " 'hardship_reason',\n",
    " 'hardship_status',\n",
    " 'deferral_term',\n",
    " 'hardship_amount',\n",
    " 'hardship_start_date',\n",
    " 'hardship_end_date',\n",
    " 'payment_plan_start_date',\n",
    " 'hardship_length',\n",
    " 'hardship_dpd',\n",
    " 'hardship_loan_status',\n",
    " 'orig_projected_additional_accrued_interest',\n",
    " 'hardship_payoff_balance_amount',\n",
    " 'hardship_last_payment_amount','policy_code','url','out_prncp_inv','total_pymnt_inv','funded_amnt_inv','funded_amnt',\n",
    "              'num_sats','tot_hi_cred_lim','num_rev_tl_bal_gt_0','collection_recovery_fee'\n",
    "             ,'bc_open_to_buy','percent_bc_gt_75','open_acc','num_actv_bc_tl','num_actv_rev_tl','num_rev_accts'\n",
    "             ,'total_rev_hi_lim','all_util', 'inq_last_12m', 'total_cu_tl', 'open_acc_6m',\n",
    "       'open_rv_12m', 'open_act_il', 'open_il_24m', 'total_bal_il',\n",
    "       'open_il_12m', 'open_rv_24m', 'max_bal_bc', 'inq_fi']"
   ]
  },
  {
   "cell_type": "code",
   "execution_count": 26,
   "metadata": {
    "ExecuteTime": {
     "end_time": "2021-04-21T05:57:14.915294Z",
     "start_time": "2021-04-21T05:57:14.906267Z"
    }
   },
   "outputs": [
    {
     "data": {
      "text/plain": [
       "15"
      ]
     },
     "execution_count": 26,
     "metadata": {},
     "output_type": "execute_result"
    }
   ],
   "source": [
    "len(corr_drops)"
   ]
  },
  {
   "cell_type": "code",
   "execution_count": 6,
   "metadata": {
    "ExecuteTime": {
     "end_time": "2021-04-21T05:44:33.304533Z",
     "start_time": "2021-04-21T05:44:33.288532Z"
    }
   },
   "outputs": [],
   "source": [
    "corr_drops = ['out_prncp_inv','total_pymnt_inv','funded_amnt_inv','funded_amnt',\n",
    "              'num_sats','tot_hi_cred_lim','num_rev_tl_bal_gt_0','collection_recovery_fee'\n",
    "             ,'bc_open_to_buy','percent_bc_gt_75','open_acc','num_actv_bc_tl','num_actv_rev_tl','num_rev_accts'\n",
    "             ,'total_rev_hi_lim']"
   ]
  },
  {
   "cell_type": "code",
   "execution_count": 7,
   "metadata": {
    "ExecuteTime": {
     "end_time": "2021-04-21T05:47:01.722287Z",
     "start_time": "2021-04-21T05:44:39.435191Z"
    }
   },
   "outputs": [],
   "source": [
    "df = pd.read_csv('data\\Loan_status_2007-2020Q3.gzip',low_memory=False)"
   ]
  },
  {
   "cell_type": "code",
   "execution_count": 8,
   "metadata": {
    "ExecuteTime": {
     "end_time": "2021-04-21T05:47:41.962127Z",
     "start_time": "2021-04-21T05:47:41.927127Z"
    }
   },
   "outputs": [
    {
     "data": {
      "text/html": [
       "<div>\n",
       "<style scoped>\n",
       "    .dataframe tbody tr th:only-of-type {\n",
       "        vertical-align: middle;\n",
       "    }\n",
       "\n",
       "    .dataframe tbody tr th {\n",
       "        vertical-align: top;\n",
       "    }\n",
       "\n",
       "    .dataframe thead th {\n",
       "        text-align: right;\n",
       "    }\n",
       "</style>\n",
       "<table border=\"1\" class=\"dataframe\">\n",
       "  <thead>\n",
       "    <tr style=\"text-align: right;\">\n",
       "      <th></th>\n",
       "      <th>Unnamed: 0</th>\n",
       "      <th>id</th>\n",
       "      <th>loan_amnt</th>\n",
       "      <th>funded_amnt</th>\n",
       "      <th>funded_amnt_inv</th>\n",
       "      <th>term</th>\n",
       "      <th>int_rate</th>\n",
       "      <th>installment</th>\n",
       "      <th>grade</th>\n",
       "      <th>sub_grade</th>\n",
       "      <th>...</th>\n",
       "      <th>hardship_start_date</th>\n",
       "      <th>hardship_end_date</th>\n",
       "      <th>payment_plan_start_date</th>\n",
       "      <th>hardship_length</th>\n",
       "      <th>hardship_dpd</th>\n",
       "      <th>hardship_loan_status</th>\n",
       "      <th>orig_projected_additional_accrued_interest</th>\n",
       "      <th>hardship_payoff_balance_amount</th>\n",
       "      <th>hardship_last_payment_amount</th>\n",
       "      <th>debt_settlement_flag</th>\n",
       "    </tr>\n",
       "  </thead>\n",
       "  <tbody>\n",
       "    <tr>\n",
       "      <th>0</th>\n",
       "      <td>0</td>\n",
       "      <td>1077501</td>\n",
       "      <td>5000.0</td>\n",
       "      <td>5000.0</td>\n",
       "      <td>4975.0</td>\n",
       "      <td>36 months</td>\n",
       "      <td>10.65%</td>\n",
       "      <td>162.87</td>\n",
       "      <td>B</td>\n",
       "      <td>B2</td>\n",
       "      <td>...</td>\n",
       "      <td>NaN</td>\n",
       "      <td>NaN</td>\n",
       "      <td>NaN</td>\n",
       "      <td>NaN</td>\n",
       "      <td>NaN</td>\n",
       "      <td>NaN</td>\n",
       "      <td>NaN</td>\n",
       "      <td>NaN</td>\n",
       "      <td>NaN</td>\n",
       "      <td>N</td>\n",
       "    </tr>\n",
       "    <tr>\n",
       "      <th>1</th>\n",
       "      <td>1</td>\n",
       "      <td>1077430</td>\n",
       "      <td>2500.0</td>\n",
       "      <td>2500.0</td>\n",
       "      <td>2500.0</td>\n",
       "      <td>60 months</td>\n",
       "      <td>15.27%</td>\n",
       "      <td>59.83</td>\n",
       "      <td>C</td>\n",
       "      <td>C4</td>\n",
       "      <td>...</td>\n",
       "      <td>NaN</td>\n",
       "      <td>NaN</td>\n",
       "      <td>NaN</td>\n",
       "      <td>NaN</td>\n",
       "      <td>NaN</td>\n",
       "      <td>NaN</td>\n",
       "      <td>NaN</td>\n",
       "      <td>NaN</td>\n",
       "      <td>NaN</td>\n",
       "      <td>N</td>\n",
       "    </tr>\n",
       "    <tr>\n",
       "      <th>2</th>\n",
       "      <td>2</td>\n",
       "      <td>1077175</td>\n",
       "      <td>2400.0</td>\n",
       "      <td>2400.0</td>\n",
       "      <td>2400.0</td>\n",
       "      <td>36 months</td>\n",
       "      <td>15.96%</td>\n",
       "      <td>84.33</td>\n",
       "      <td>C</td>\n",
       "      <td>C5</td>\n",
       "      <td>...</td>\n",
       "      <td>NaN</td>\n",
       "      <td>NaN</td>\n",
       "      <td>NaN</td>\n",
       "      <td>NaN</td>\n",
       "      <td>NaN</td>\n",
       "      <td>NaN</td>\n",
       "      <td>NaN</td>\n",
       "      <td>NaN</td>\n",
       "      <td>NaN</td>\n",
       "      <td>N</td>\n",
       "    </tr>\n",
       "    <tr>\n",
       "      <th>3</th>\n",
       "      <td>3</td>\n",
       "      <td>1076863</td>\n",
       "      <td>10000.0</td>\n",
       "      <td>10000.0</td>\n",
       "      <td>10000.0</td>\n",
       "      <td>36 months</td>\n",
       "      <td>13.49%</td>\n",
       "      <td>339.31</td>\n",
       "      <td>C</td>\n",
       "      <td>C1</td>\n",
       "      <td>...</td>\n",
       "      <td>NaN</td>\n",
       "      <td>NaN</td>\n",
       "      <td>NaN</td>\n",
       "      <td>NaN</td>\n",
       "      <td>NaN</td>\n",
       "      <td>NaN</td>\n",
       "      <td>NaN</td>\n",
       "      <td>NaN</td>\n",
       "      <td>NaN</td>\n",
       "      <td>N</td>\n",
       "    </tr>\n",
       "    <tr>\n",
       "      <th>4</th>\n",
       "      <td>4</td>\n",
       "      <td>1075358</td>\n",
       "      <td>3000.0</td>\n",
       "      <td>3000.0</td>\n",
       "      <td>3000.0</td>\n",
       "      <td>60 months</td>\n",
       "      <td>12.69%</td>\n",
       "      <td>67.79</td>\n",
       "      <td>B</td>\n",
       "      <td>B5</td>\n",
       "      <td>...</td>\n",
       "      <td>NaN</td>\n",
       "      <td>NaN</td>\n",
       "      <td>NaN</td>\n",
       "      <td>NaN</td>\n",
       "      <td>NaN</td>\n",
       "      <td>NaN</td>\n",
       "      <td>NaN</td>\n",
       "      <td>NaN</td>\n",
       "      <td>NaN</td>\n",
       "      <td>N</td>\n",
       "    </tr>\n",
       "  </tbody>\n",
       "</table>\n",
       "<p>5 rows × 142 columns</p>\n",
       "</div>"
      ],
      "text/plain": [
       "   Unnamed: 0       id  loan_amnt  funded_amnt  funded_amnt_inv        term  \\\n",
       "0           0  1077501     5000.0       5000.0           4975.0   36 months   \n",
       "1           1  1077430     2500.0       2500.0           2500.0   60 months   \n",
       "2           2  1077175     2400.0       2400.0           2400.0   36 months   \n",
       "3           3  1076863    10000.0      10000.0          10000.0   36 months   \n",
       "4           4  1075358     3000.0       3000.0           3000.0   60 months   \n",
       "\n",
       "  int_rate  installment grade sub_grade  ... hardship_start_date  \\\n",
       "0   10.65%       162.87     B        B2  ...                 NaN   \n",
       "1   15.27%        59.83     C        C4  ...                 NaN   \n",
       "2   15.96%        84.33     C        C5  ...                 NaN   \n",
       "3   13.49%       339.31     C        C1  ...                 NaN   \n",
       "4   12.69%        67.79     B        B5  ...                 NaN   \n",
       "\n",
       "  hardship_end_date payment_plan_start_date  hardship_length hardship_dpd  \\\n",
       "0               NaN                     NaN              NaN          NaN   \n",
       "1               NaN                     NaN              NaN          NaN   \n",
       "2               NaN                     NaN              NaN          NaN   \n",
       "3               NaN                     NaN              NaN          NaN   \n",
       "4               NaN                     NaN              NaN          NaN   \n",
       "\n",
       "  hardship_loan_status orig_projected_additional_accrued_interest  \\\n",
       "0                  NaN                                        NaN   \n",
       "1                  NaN                                        NaN   \n",
       "2                  NaN                                        NaN   \n",
       "3                  NaN                                        NaN   \n",
       "4                  NaN                                        NaN   \n",
       "\n",
       "  hardship_payoff_balance_amount hardship_last_payment_amount  \\\n",
       "0                            NaN                          NaN   \n",
       "1                            NaN                          NaN   \n",
       "2                            NaN                          NaN   \n",
       "3                            NaN                          NaN   \n",
       "4                            NaN                          NaN   \n",
       "\n",
       "  debt_settlement_flag  \n",
       "0                    N  \n",
       "1                    N  \n",
       "2                    N  \n",
       "3                    N  \n",
       "4                    N  \n",
       "\n",
       "[5 rows x 142 columns]"
      ]
     },
     "execution_count": 8,
     "metadata": {},
     "output_type": "execute_result"
    }
   ],
   "source": [
    "df.head()"
   ]
  },
  {
   "cell_type": "code",
   "execution_count": 9,
   "metadata": {
    "ExecuteTime": {
     "end_time": "2021-04-21T05:47:50.074129Z",
     "start_time": "2021-04-21T05:47:50.032126Z"
    }
   },
   "outputs": [],
   "source": [
    "def reduce_mem_usage(df, int_cast=True, obj_to_category=False, subset=None):\n",
    "    \"\"\"\n",
    "    Iterate through all the columns of a dataframe and modify the data type to reduce memory usage.\n",
    "    :param df: dataframe to reduce (pd.DataFrame)\n",
    "    :param int_cast: indicate if columns should be tried to be casted to int (bool)\n",
    "    :param obj_to_category: convert non-datetime related objects to category dtype (bool)\n",
    "    :param subset: subset of columns to analyse (list)\n",
    "    :return: dataset with the column dtypes adjusted (pd.DataFrame)\n",
    "    \"\"\"\n",
    "    start_mem = df.memory_usage().sum() / 1024 ** 2;\n",
    "    gc.collect()\n",
    "    print('Memory usage of dataframe is {:.2f} MB'.format(start_mem))\n",
    "\n",
    "    cols = subset if subset is not None else df.columns.tolist()\n",
    "\n",
    "    for col in tqdm(cols):\n",
    "        col_type = df[col].dtype\n",
    "\n",
    "        if col_type != object and col_type.name != 'category' and 'datetime' not in col_type.name:\n",
    "            c_min = df[col].min()\n",
    "            c_max = df[col].max()\n",
    "\n",
    "            # test if column can be converted to an integer\n",
    "            treat_as_int = str(col_type)[:3] == 'int'\n",
    "            if int_cast and not treat_as_int:\n",
    "                treat_as_int = check_if_integer(df[col])\n",
    "\n",
    "            if treat_as_int:\n",
    "                if c_min > np.iinfo(np.int8).min and c_max < np.iinfo(np.int8).max:\n",
    "                    df[col] = df[col].astype(np.int8)\n",
    "                elif c_min > np.iinfo(np.uint8).min and c_max < np.iinfo(np.uint8).max:\n",
    "                    df[col] = df[col].astype(np.uint8)\n",
    "                elif c_min > np.iinfo(np.int16).min and c_max < np.iinfo(np.int16).max:\n",
    "                    df[col] = df[col].astype(np.int16)\n",
    "                elif c_min > np.iinfo(np.uint16).min and c_max < np.iinfo(np.uint16).max:\n",
    "                    df[col] = df[col].astype(np.uint16)\n",
    "                elif c_min > np.iinfo(np.int32).min and c_max < np.iinfo(np.int32).max:\n",
    "                    df[col] = df[col].astype(np.int32)\n",
    "                elif c_min > np.iinfo(np.uint32).min and c_max < np.iinfo(np.uint32).max:\n",
    "                    df[col] = df[col].astype(np.uint32)\n",
    "                elif c_min > np.iinfo(np.int64).min and c_max < np.iinfo(np.int64).max:\n",
    "                    df[col] = df[col].astype(np.int64)\n",
    "                elif c_min > np.iinfo(np.uint64).min and c_max < np.iinfo(np.uint64).max:\n",
    "                    df[col] = df[col].astype(np.uint64)\n",
    "            else:\n",
    "                if c_min > np.finfo(np.float16).min and c_max < np.finfo(np.float16).max:\n",
    "                    df[col] = df[col].astype(np.float16)\n",
    "                elif c_min > np.finfo(np.float32).min and c_max < np.finfo(np.float32).max:\n",
    "                    df[col] = df[col].astype(np.float32)\n",
    "                else:\n",
    "                    df[col] = df[col].astype(np.float64)\n",
    "        elif 'datetime' not in col_type.name and obj_to_category:\n",
    "            df[col] = df[col].astype('category')\n",
    "    gc.collect()\n",
    "    end_mem = df.memory_usage().sum() / 1024 ** 2\n",
    "    print('Memory usage after optimization is: {:.3f} MB'.format(end_mem))\n",
    "    print('Decreased by {:.1f}%'.format(100 * (start_mem - end_mem) / start_mem))\n",
    "\n",
    "    return df"
   ]
  },
  {
   "cell_type": "code",
   "execution_count": 10,
   "metadata": {
    "ExecuteTime": {
     "end_time": "2021-04-02T01:57:29.877982Z",
     "start_time": "2021-04-02T01:57:28.633651Z"
    }
   },
   "outputs": [],
   "source": [
    "#df.drop(columns=columns_to_drop,axis=1,inplace=True)"
   ]
  },
  {
   "cell_type": "code",
   "execution_count": 10,
   "metadata": {
    "ExecuteTime": {
     "end_time": "2021-04-21T05:49:18.503155Z",
     "start_time": "2021-04-21T05:48:03.600156Z"
    }
   },
   "outputs": [
    {
     "name": "stderr",
     "output_type": "stream",
     "text": [
      "\r",
      "  0%|          | 0/142 [00:00<?, ?it/s]"
     ]
    },
    {
     "name": "stdout",
     "output_type": "stream",
     "text": [
      "Memory usage of dataframe is 3169.40 MB\n"
     ]
    },
    {
     "name": "stderr",
     "output_type": "stream",
     "text": [
      "100%|██████████| 142/142 [01:12<00:00,  1.96it/s]\n"
     ]
    },
    {
     "name": "stdout",
     "output_type": "stream",
     "text": [
      "Memory usage after optimization is: 1484.263 MB\n",
      "Decreased by 53.2%\n"
     ]
    },
    {
     "data": {
      "text/html": [
       "<div>\n",
       "<style scoped>\n",
       "    .dataframe tbody tr th:only-of-type {\n",
       "        vertical-align: middle;\n",
       "    }\n",
       "\n",
       "    .dataframe tbody tr th {\n",
       "        vertical-align: top;\n",
       "    }\n",
       "\n",
       "    .dataframe thead th {\n",
       "        text-align: right;\n",
       "    }\n",
       "</style>\n",
       "<table border=\"1\" class=\"dataframe\">\n",
       "  <thead>\n",
       "    <tr style=\"text-align: right;\">\n",
       "      <th></th>\n",
       "      <th>Unnamed: 0</th>\n",
       "      <th>id</th>\n",
       "      <th>loan_amnt</th>\n",
       "      <th>funded_amnt</th>\n",
       "      <th>funded_amnt_inv</th>\n",
       "      <th>term</th>\n",
       "      <th>int_rate</th>\n",
       "      <th>installment</th>\n",
       "      <th>grade</th>\n",
       "      <th>sub_grade</th>\n",
       "      <th>...</th>\n",
       "      <th>hardship_start_date</th>\n",
       "      <th>hardship_end_date</th>\n",
       "      <th>payment_plan_start_date</th>\n",
       "      <th>hardship_length</th>\n",
       "      <th>hardship_dpd</th>\n",
       "      <th>hardship_loan_status</th>\n",
       "      <th>orig_projected_additional_accrued_interest</th>\n",
       "      <th>hardship_payoff_balance_amount</th>\n",
       "      <th>hardship_last_payment_amount</th>\n",
       "      <th>debt_settlement_flag</th>\n",
       "    </tr>\n",
       "  </thead>\n",
       "  <tbody>\n",
       "    <tr>\n",
       "      <th>0</th>\n",
       "      <td>0</td>\n",
       "      <td>1077501</td>\n",
       "      <td>5000.0</td>\n",
       "      <td>5000.0</td>\n",
       "      <td>4976.0</td>\n",
       "      <td>36 months</td>\n",
       "      <td>10.65%</td>\n",
       "      <td>162.87500</td>\n",
       "      <td>B</td>\n",
       "      <td>B2</td>\n",
       "      <td>...</td>\n",
       "      <td>NaN</td>\n",
       "      <td>NaN</td>\n",
       "      <td>NaN</td>\n",
       "      <td>NaN</td>\n",
       "      <td>NaN</td>\n",
       "      <td>NaN</td>\n",
       "      <td>NaN</td>\n",
       "      <td>NaN</td>\n",
       "      <td>NaN</td>\n",
       "      <td>N</td>\n",
       "    </tr>\n",
       "    <tr>\n",
       "      <th>1</th>\n",
       "      <td>1</td>\n",
       "      <td>1077430</td>\n",
       "      <td>2500.0</td>\n",
       "      <td>2500.0</td>\n",
       "      <td>2500.0</td>\n",
       "      <td>60 months</td>\n",
       "      <td>15.27%</td>\n",
       "      <td>59.84375</td>\n",
       "      <td>C</td>\n",
       "      <td>C4</td>\n",
       "      <td>...</td>\n",
       "      <td>NaN</td>\n",
       "      <td>NaN</td>\n",
       "      <td>NaN</td>\n",
       "      <td>NaN</td>\n",
       "      <td>NaN</td>\n",
       "      <td>NaN</td>\n",
       "      <td>NaN</td>\n",
       "      <td>NaN</td>\n",
       "      <td>NaN</td>\n",
       "      <td>N</td>\n",
       "    </tr>\n",
       "    <tr>\n",
       "      <th>2</th>\n",
       "      <td>2</td>\n",
       "      <td>1077175</td>\n",
       "      <td>2400.0</td>\n",
       "      <td>2400.0</td>\n",
       "      <td>2400.0</td>\n",
       "      <td>36 months</td>\n",
       "      <td>15.96%</td>\n",
       "      <td>84.31250</td>\n",
       "      <td>C</td>\n",
       "      <td>C5</td>\n",
       "      <td>...</td>\n",
       "      <td>NaN</td>\n",
       "      <td>NaN</td>\n",
       "      <td>NaN</td>\n",
       "      <td>NaN</td>\n",
       "      <td>NaN</td>\n",
       "      <td>NaN</td>\n",
       "      <td>NaN</td>\n",
       "      <td>NaN</td>\n",
       "      <td>NaN</td>\n",
       "      <td>N</td>\n",
       "    </tr>\n",
       "    <tr>\n",
       "      <th>3</th>\n",
       "      <td>3</td>\n",
       "      <td>1076863</td>\n",
       "      <td>10000.0</td>\n",
       "      <td>10000.0</td>\n",
       "      <td>10000.0</td>\n",
       "      <td>36 months</td>\n",
       "      <td>13.49%</td>\n",
       "      <td>339.25000</td>\n",
       "      <td>C</td>\n",
       "      <td>C1</td>\n",
       "      <td>...</td>\n",
       "      <td>NaN</td>\n",
       "      <td>NaN</td>\n",
       "      <td>NaN</td>\n",
       "      <td>NaN</td>\n",
       "      <td>NaN</td>\n",
       "      <td>NaN</td>\n",
       "      <td>NaN</td>\n",
       "      <td>NaN</td>\n",
       "      <td>NaN</td>\n",
       "      <td>N</td>\n",
       "    </tr>\n",
       "    <tr>\n",
       "      <th>4</th>\n",
       "      <td>4</td>\n",
       "      <td>1075358</td>\n",
       "      <td>3000.0</td>\n",
       "      <td>3000.0</td>\n",
       "      <td>3000.0</td>\n",
       "      <td>60 months</td>\n",
       "      <td>12.69%</td>\n",
       "      <td>67.81250</td>\n",
       "      <td>B</td>\n",
       "      <td>B5</td>\n",
       "      <td>...</td>\n",
       "      <td>NaN</td>\n",
       "      <td>NaN</td>\n",
       "      <td>NaN</td>\n",
       "      <td>NaN</td>\n",
       "      <td>NaN</td>\n",
       "      <td>NaN</td>\n",
       "      <td>NaN</td>\n",
       "      <td>NaN</td>\n",
       "      <td>NaN</td>\n",
       "      <td>N</td>\n",
       "    </tr>\n",
       "    <tr>\n",
       "      <th>...</th>\n",
       "      <td>...</td>\n",
       "      <td>...</td>\n",
       "      <td>...</td>\n",
       "      <td>...</td>\n",
       "      <td>...</td>\n",
       "      <td>...</td>\n",
       "      <td>...</td>\n",
       "      <td>...</td>\n",
       "      <td>...</td>\n",
       "      <td>...</td>\n",
       "      <td>...</td>\n",
       "      <td>...</td>\n",
       "      <td>...</td>\n",
       "      <td>...</td>\n",
       "      <td>...</td>\n",
       "      <td>...</td>\n",
       "      <td>...</td>\n",
       "      <td>...</td>\n",
       "      <td>...</td>\n",
       "      <td>...</td>\n",
       "      <td>...</td>\n",
       "    </tr>\n",
       "    <tr>\n",
       "      <th>2925488</th>\n",
       "      <td>105446</td>\n",
       "      <td>102556443</td>\n",
       "      <td>24000.0</td>\n",
       "      <td>24000.0</td>\n",
       "      <td>24000.0</td>\n",
       "      <td>60 months</td>\n",
       "      <td>23.99%</td>\n",
       "      <td>690.50000</td>\n",
       "      <td>E</td>\n",
       "      <td>E2</td>\n",
       "      <td>...</td>\n",
       "      <td>NaN</td>\n",
       "      <td>NaN</td>\n",
       "      <td>NaN</td>\n",
       "      <td>NaN</td>\n",
       "      <td>NaN</td>\n",
       "      <td>NaN</td>\n",
       "      <td>NaN</td>\n",
       "      <td>NaN</td>\n",
       "      <td>NaN</td>\n",
       "      <td>N</td>\n",
       "    </tr>\n",
       "    <tr>\n",
       "      <th>2925489</th>\n",
       "      <td>105447</td>\n",
       "      <td>102653304</td>\n",
       "      <td>10000.0</td>\n",
       "      <td>10000.0</td>\n",
       "      <td>10000.0</td>\n",
       "      <td>36 months</td>\n",
       "      <td>7.99%</td>\n",
       "      <td>313.25000</td>\n",
       "      <td>A</td>\n",
       "      <td>A5</td>\n",
       "      <td>...</td>\n",
       "      <td>NaN</td>\n",
       "      <td>NaN</td>\n",
       "      <td>NaN</td>\n",
       "      <td>NaN</td>\n",
       "      <td>NaN</td>\n",
       "      <td>NaN</td>\n",
       "      <td>NaN</td>\n",
       "      <td>NaN</td>\n",
       "      <td>NaN</td>\n",
       "      <td>N</td>\n",
       "    </tr>\n",
       "    <tr>\n",
       "      <th>2925490</th>\n",
       "      <td>105448</td>\n",
       "      <td>102628603</td>\n",
       "      <td>10048.0</td>\n",
       "      <td>10048.0</td>\n",
       "      <td>10048.0</td>\n",
       "      <td>36 months</td>\n",
       "      <td>16.99%</td>\n",
       "      <td>358.25000</td>\n",
       "      <td>D</td>\n",
       "      <td>D1</td>\n",
       "      <td>...</td>\n",
       "      <td>NaN</td>\n",
       "      <td>NaN</td>\n",
       "      <td>NaN</td>\n",
       "      <td>NaN</td>\n",
       "      <td>NaN</td>\n",
       "      <td>NaN</td>\n",
       "      <td>NaN</td>\n",
       "      <td>NaN</td>\n",
       "      <td>NaN</td>\n",
       "      <td>N</td>\n",
       "    </tr>\n",
       "    <tr>\n",
       "      <th>2925491</th>\n",
       "      <td>105449</td>\n",
       "      <td>102196576</td>\n",
       "      <td>6000.0</td>\n",
       "      <td>6000.0</td>\n",
       "      <td>6000.0</td>\n",
       "      <td>36 months</td>\n",
       "      <td>11.44%</td>\n",
       "      <td>197.75000</td>\n",
       "      <td>B</td>\n",
       "      <td>B4</td>\n",
       "      <td>...</td>\n",
       "      <td>NaN</td>\n",
       "      <td>NaN</td>\n",
       "      <td>NaN</td>\n",
       "      <td>NaN</td>\n",
       "      <td>NaN</td>\n",
       "      <td>NaN</td>\n",
       "      <td>NaN</td>\n",
       "      <td>NaN</td>\n",
       "      <td>NaN</td>\n",
       "      <td>N</td>\n",
       "    </tr>\n",
       "    <tr>\n",
       "      <th>2925492</th>\n",
       "      <td>105450</td>\n",
       "      <td>99799684</td>\n",
       "      <td>30000.0</td>\n",
       "      <td>30000.0</td>\n",
       "      <td>30000.0</td>\n",
       "      <td>60 months</td>\n",
       "      <td>25.49%</td>\n",
       "      <td>889.00000</td>\n",
       "      <td>E</td>\n",
       "      <td>E4</td>\n",
       "      <td>...</td>\n",
       "      <td>NaN</td>\n",
       "      <td>NaN</td>\n",
       "      <td>NaN</td>\n",
       "      <td>NaN</td>\n",
       "      <td>NaN</td>\n",
       "      <td>NaN</td>\n",
       "      <td>NaN</td>\n",
       "      <td>NaN</td>\n",
       "      <td>NaN</td>\n",
       "      <td>N</td>\n",
       "    </tr>\n",
       "  </tbody>\n",
       "</table>\n",
       "<p>2925493 rows × 142 columns</p>\n",
       "</div>"
      ],
      "text/plain": [
       "         Unnamed: 0         id  loan_amnt  funded_amnt  funded_amnt_inv  \\\n",
       "0                 0    1077501     5000.0       5000.0           4976.0   \n",
       "1                 1    1077430     2500.0       2500.0           2500.0   \n",
       "2                 2    1077175     2400.0       2400.0           2400.0   \n",
       "3                 3    1076863    10000.0      10000.0          10000.0   \n",
       "4                 4    1075358     3000.0       3000.0           3000.0   \n",
       "...             ...        ...        ...          ...              ...   \n",
       "2925488      105446  102556443    24000.0      24000.0          24000.0   \n",
       "2925489      105447  102653304    10000.0      10000.0          10000.0   \n",
       "2925490      105448  102628603    10048.0      10048.0          10048.0   \n",
       "2925491      105449  102196576     6000.0       6000.0           6000.0   \n",
       "2925492      105450   99799684    30000.0      30000.0          30000.0   \n",
       "\n",
       "               term int_rate  installment grade sub_grade  ...  \\\n",
       "0         36 months   10.65%    162.87500     B        B2  ...   \n",
       "1         60 months   15.27%     59.84375     C        C4  ...   \n",
       "2         36 months   15.96%     84.31250     C        C5  ...   \n",
       "3         36 months   13.49%    339.25000     C        C1  ...   \n",
       "4         60 months   12.69%     67.81250     B        B5  ...   \n",
       "...             ...      ...          ...   ...       ...  ...   \n",
       "2925488   60 months   23.99%    690.50000     E        E2  ...   \n",
       "2925489   36 months    7.99%    313.25000     A        A5  ...   \n",
       "2925490   36 months   16.99%    358.25000     D        D1  ...   \n",
       "2925491   36 months   11.44%    197.75000     B        B4  ...   \n",
       "2925492   60 months   25.49%    889.00000     E        E4  ...   \n",
       "\n",
       "        hardship_start_date hardship_end_date payment_plan_start_date  \\\n",
       "0                       NaN               NaN                     NaN   \n",
       "1                       NaN               NaN                     NaN   \n",
       "2                       NaN               NaN                     NaN   \n",
       "3                       NaN               NaN                     NaN   \n",
       "4                       NaN               NaN                     NaN   \n",
       "...                     ...               ...                     ...   \n",
       "2925488                 NaN               NaN                     NaN   \n",
       "2925489                 NaN               NaN                     NaN   \n",
       "2925490                 NaN               NaN                     NaN   \n",
       "2925491                 NaN               NaN                     NaN   \n",
       "2925492                 NaN               NaN                     NaN   \n",
       "\n",
       "         hardship_length hardship_dpd hardship_loan_status  \\\n",
       "0                    NaN          NaN                  NaN   \n",
       "1                    NaN          NaN                  NaN   \n",
       "2                    NaN          NaN                  NaN   \n",
       "3                    NaN          NaN                  NaN   \n",
       "4                    NaN          NaN                  NaN   \n",
       "...                  ...          ...                  ...   \n",
       "2925488              NaN          NaN                  NaN   \n",
       "2925489              NaN          NaN                  NaN   \n",
       "2925490              NaN          NaN                  NaN   \n",
       "2925491              NaN          NaN                  NaN   \n",
       "2925492              NaN          NaN                  NaN   \n",
       "\n",
       "        orig_projected_additional_accrued_interest  \\\n",
       "0                                              NaN   \n",
       "1                                              NaN   \n",
       "2                                              NaN   \n",
       "3                                              NaN   \n",
       "4                                              NaN   \n",
       "...                                            ...   \n",
       "2925488                                        NaN   \n",
       "2925489                                        NaN   \n",
       "2925490                                        NaN   \n",
       "2925491                                        NaN   \n",
       "2925492                                        NaN   \n",
       "\n",
       "        hardship_payoff_balance_amount hardship_last_payment_amount  \\\n",
       "0                                  NaN                          NaN   \n",
       "1                                  NaN                          NaN   \n",
       "2                                  NaN                          NaN   \n",
       "3                                  NaN                          NaN   \n",
       "4                                  NaN                          NaN   \n",
       "...                                ...                          ...   \n",
       "2925488                            NaN                          NaN   \n",
       "2925489                            NaN                          NaN   \n",
       "2925490                            NaN                          NaN   \n",
       "2925491                            NaN                          NaN   \n",
       "2925492                            NaN                          NaN   \n",
       "\n",
       "        debt_settlement_flag  \n",
       "0                          N  \n",
       "1                          N  \n",
       "2                          N  \n",
       "3                          N  \n",
       "4                          N  \n",
       "...                      ...  \n",
       "2925488                    N  \n",
       "2925489                    N  \n",
       "2925490                    N  \n",
       "2925491                    N  \n",
       "2925492                    N  \n",
       "\n",
       "[2925493 rows x 142 columns]"
      ]
     },
     "execution_count": 10,
     "metadata": {},
     "output_type": "execute_result"
    }
   ],
   "source": [
    "reduce_mem_usage(df,int_cast=False)"
   ]
  },
  {
   "cell_type": "code",
   "execution_count": 11,
   "metadata": {
    "ExecuteTime": {
     "end_time": "2021-04-21T05:49:25.894158Z",
     "start_time": "2021-04-21T05:49:25.862154Z"
    }
   },
   "outputs": [
    {
     "name": "stdout",
     "output_type": "stream",
     "text": [
      "<class 'pandas.core.frame.DataFrame'>\n",
      "RangeIndex: 2925493 entries, 0 to 2925492\n",
      "Data columns (total 142 columns):\n",
      " #   Column                                      Dtype  \n",
      "---  ------                                      -----  \n",
      " 0   Unnamed: 0                                  int32  \n",
      " 1   id                                          object \n",
      " 2   loan_amnt                                   float16\n",
      " 3   funded_amnt                                 float16\n",
      " 4   funded_amnt_inv                             float16\n",
      " 5   term                                        object \n",
      " 6   int_rate                                    object \n",
      " 7   installment                                 float16\n",
      " 8   grade                                       object \n",
      " 9   sub_grade                                   object \n",
      " 10  emp_title                                   object \n",
      " 11  emp_length                                  object \n",
      " 12  home_ownership                              object \n",
      " 13  annual_inc                                  float32\n",
      " 14  verification_status                         object \n",
      " 15  issue_d                                     object \n",
      " 16  loan_status                                 object \n",
      " 17  pymnt_plan                                  object \n",
      " 18  url                                         object \n",
      " 19  purpose                                     object \n",
      " 20  title                                       object \n",
      " 21  zip_code                                    object \n",
      " 22  addr_state                                  object \n",
      " 23  dti                                         float16\n",
      " 24  delinq_2yrs                                 float16\n",
      " 25  earliest_cr_line                            object \n",
      " 26  fico_range_low                              float16\n",
      " 27  fico_range_high                             float16\n",
      " 28  inq_last_6mths                              float16\n",
      " 29  mths_since_last_delinq                      float16\n",
      " 30  mths_since_last_record                      float16\n",
      " 31  open_acc                                    float16\n",
      " 32  pub_rec                                     float16\n",
      " 33  revol_bal                                   float32\n",
      " 34  revol_util                                  object \n",
      " 35  total_acc                                   float16\n",
      " 36  initial_list_status                         object \n",
      " 37  out_prncp                                   float16\n",
      " 38  out_prncp_inv                               float16\n",
      " 39  total_pymnt                                 float32\n",
      " 40  total_pymnt_inv                             float32\n",
      " 41  total_rec_prncp                             float16\n",
      " 42  total_rec_int                               float16\n",
      " 43  total_rec_late_fee                          float16\n",
      " 44  recoveries                                  float16\n",
      " 45  collection_recovery_fee                     float16\n",
      " 46  last_pymnt_d                                object \n",
      " 47  last_pymnt_amnt                             float16\n",
      " 48  next_pymnt_d                                object \n",
      " 49  last_credit_pull_d                          object \n",
      " 50  last_fico_range_high                        float16\n",
      " 51  last_fico_range_low                         float16\n",
      " 52  collections_12_mths_ex_med                  float16\n",
      " 53  mths_since_last_major_derog                 float16\n",
      " 54  policy_code                                 float16\n",
      " 55  application_type                            object \n",
      " 56  annual_inc_joint                            float32\n",
      " 57  dti_joint                                   float16\n",
      " 58  verification_status_joint                   object \n",
      " 59  acc_now_delinq                              float16\n",
      " 60  tot_coll_amt                                float32\n",
      " 61  tot_cur_bal                                 float32\n",
      " 62  open_acc_6m                                 float16\n",
      " 63  open_act_il                                 float16\n",
      " 64  open_il_12m                                 float16\n",
      " 65  open_il_24m                                 float16\n",
      " 66  mths_since_rcnt_il                          float16\n",
      " 67  total_bal_il                                float32\n",
      " 68  il_util                                     float16\n",
      " 69  open_rv_12m                                 float16\n",
      " 70  open_rv_24m                                 float16\n",
      " 71  max_bal_bc                                  float32\n",
      " 72  all_util                                    float16\n",
      " 73  total_rev_hi_lim                            float32\n",
      " 74  inq_fi                                      float16\n",
      " 75  total_cu_tl                                 float16\n",
      " 76  inq_last_12m                                float16\n",
      " 77  acc_open_past_24mths                        float16\n",
      " 78  avg_cur_bal                                 float32\n",
      " 79  bc_open_to_buy                              float32\n",
      " 80  bc_util                                     float16\n",
      " 81  chargeoff_within_12_mths                    float16\n",
      " 82  delinq_amnt                                 float32\n",
      " 83  mo_sin_old_il_acct                          float16\n",
      " 84  mo_sin_old_rev_tl_op                        float16\n",
      " 85  mo_sin_rcnt_rev_tl_op                       float16\n",
      " 86  mo_sin_rcnt_tl                              float16\n",
      " 87  mort_acc                                    float16\n",
      " 88  mths_since_recent_bc                        float16\n",
      " 89  mths_since_recent_bc_dlq                    float16\n",
      " 90  mths_since_recent_inq                       float16\n",
      " 91  mths_since_recent_revol_delinq              float16\n",
      " 92  num_accts_ever_120_pd                       float16\n",
      " 93  num_actv_bc_tl                              float16\n",
      " 94  num_actv_rev_tl                             float16\n",
      " 95  num_bc_sats                                 float16\n",
      " 96  num_bc_tl                                   float16\n",
      " 97  num_il_tl                                   float16\n",
      " 98  num_op_rev_tl                               float16\n",
      " 99  num_rev_accts                               float16\n",
      " 100 num_rev_tl_bal_gt_0                         float16\n",
      " 101 num_sats                                    float16\n",
      " 102 num_tl_120dpd_2m                            float16\n",
      " 103 num_tl_30dpd                                float16\n",
      " 104 num_tl_90g_dpd_24m                          float16\n",
      " 105 num_tl_op_past_12m                          float16\n",
      " 106 pct_tl_nvr_dlq                              float16\n",
      " 107 percent_bc_gt_75                            float16\n",
      " 108 pub_rec_bankruptcies                        float16\n",
      " 109 tax_liens                                   float16\n",
      " 110 tot_hi_cred_lim                             float32\n",
      " 111 total_bal_ex_mort                           float32\n",
      " 112 total_bc_limit                              float32\n",
      " 113 total_il_high_credit_limit                  float32\n",
      " 114 revol_bal_joint                             float32\n",
      " 115 sec_app_fico_range_low                      float16\n",
      " 116 sec_app_fico_range_high                     float16\n",
      " 117 sec_app_earliest_cr_line                    object \n",
      " 118 sec_app_inq_last_6mths                      float16\n",
      " 119 sec_app_mort_acc                            float16\n",
      " 120 sec_app_open_acc                            float16\n",
      " 121 sec_app_revol_util                          float16\n",
      " 122 sec_app_open_act_il                         float16\n",
      " 123 sec_app_num_rev_accts                       float16\n",
      " 124 sec_app_chargeoff_within_12_mths            float16\n",
      " 125 sec_app_collections_12_mths_ex_med          float16\n",
      " 126 hardship_flag                               object \n",
      " 127 hardship_type                               object \n",
      " 128 hardship_reason                             object \n",
      " 129 hardship_status                             object \n",
      " 130 deferral_term                               float16\n",
      " 131 hardship_amount                             float16\n",
      " 132 hardship_start_date                         object \n",
      " 133 hardship_end_date                           object \n",
      " 134 payment_plan_start_date                     object \n",
      " 135 hardship_length                             float16\n",
      " 136 hardship_dpd                                float16\n",
      " 137 hardship_loan_status                        object \n",
      " 138 orig_projected_additional_accrued_interest  float16\n",
      " 139 hardship_payoff_balance_amount              float16\n",
      " 140 hardship_last_payment_amount                float16\n",
      " 141 debt_settlement_flag                        object \n",
      "dtypes: float16(88), float32(18), int32(1), object(35)\n",
      "memory usage: 1.4+ GB\n"
     ]
    }
   ],
   "source": [
    "df.info(verbose=True)"
   ]
  },
  {
   "cell_type": "code",
   "execution_count": 12,
   "metadata": {
    "ExecuteTime": {
     "end_time": "2021-04-21T05:49:54.893152Z",
     "start_time": "2021-04-21T05:49:52.228152Z"
    }
   },
   "outputs": [],
   "source": [
    "df.drop('Unnamed: 0',axis=1,inplace=True)"
   ]
  },
  {
   "cell_type": "code",
   "execution_count": 13,
   "metadata": {
    "ExecuteTime": {
     "end_time": "2021-04-21T05:50:19.396154Z",
     "start_time": "2021-04-21T05:50:13.843153Z"
    }
   },
   "outputs": [
    {
     "data": {
      "text/plain": [
       "([<matplotlib.axis.YTick at 0x26c8003fa00>,\n",
       "  <matplotlib.axis.YTick at 0x26c8003f5e0>,\n",
       "  <matplotlib.axis.YTick at 0x26c800d2790>,\n",
       "  <matplotlib.axis.YTick at 0x26c800d2c70>,\n",
       "  <matplotlib.axis.YTick at 0x26c800d71c0>,\n",
       "  <matplotlib.axis.YTick at 0x26c800d76d0>,\n",
       "  <matplotlib.axis.YTick at 0x26c80034430>,\n",
       "  <matplotlib.axis.YTick at 0x26c800e9370>,\n",
       "  <matplotlib.axis.YTick at 0x26c800e9880>,\n",
       "  <matplotlib.axis.YTick at 0x26c800e9d90>,\n",
       "  <matplotlib.axis.YTick at 0x26c800ee2e0>,\n",
       "  <matplotlib.axis.YTick at 0x26c800e9910>,\n",
       "  <matplotlib.axis.YTick at 0x26c800e3910>,\n",
       "  <matplotlib.axis.YTick at 0x26c800de490>,\n",
       "  <matplotlib.axis.YTick at 0x26c800ee9a0>,\n",
       "  <matplotlib.axis.YTick at 0x26c800eeeb0>,\n",
       "  <matplotlib.axis.YTick at 0x26c800f6400>,\n",
       "  <matplotlib.axis.YTick at 0x26c800f6910>,\n",
       "  <matplotlib.axis.YTick at 0x26c800f6e20>,\n",
       "  <matplotlib.axis.YTick at 0x26c800fb370>,\n",
       "  <matplotlib.axis.YTick at 0x26c800f6a90>],\n",
       " [Text(0, 0, ''),\n",
       "  Text(0, 0, ''),\n",
       "  Text(0, 0, ''),\n",
       "  Text(0, 0, ''),\n",
       "  Text(0, 0, ''),\n",
       "  Text(0, 0, ''),\n",
       "  Text(0, 0, ''),\n",
       "  Text(0, 0, ''),\n",
       "  Text(0, 0, ''),\n",
       "  Text(0, 0, ''),\n",
       "  Text(0, 0, ''),\n",
       "  Text(0, 0, ''),\n",
       "  Text(0, 0, ''),\n",
       "  Text(0, 0, ''),\n",
       "  Text(0, 0, ''),\n",
       "  Text(0, 0, ''),\n",
       "  Text(0, 0, ''),\n",
       "  Text(0, 0, ''),\n",
       "  Text(0, 0, ''),\n",
       "  Text(0, 0, ''),\n",
       "  Text(0, 0, '')])"
      ]
     },
     "execution_count": 13,
     "metadata": {},
     "output_type": "execute_result"
    },
    {
     "data": {
      "image/png": "[encoded data removed]",
      "text/plain": [
       "<Figure size 864x576 with 1 Axes>"
      ]
     },
     "metadata": {
      "needs_background": "light"
     },
     "output_type": "display_data"
    }
   ],
   "source": [
    "fig,ax = plt.subplots(figsize=(12,8))\n",
    "sns.histplot(data=df.isna().mean(),bins=20)\n",
    "plt.xticks(np.linspace(0,1,21))\n",
    "plt.title(\"Histogram of Nan Values as % of Column\")\n",
    "plt.xlabel('% of Rows with NaN Values')\n",
    "plt.yticks(np.linspace(0,100,21))"
   ]
  },
  {
   "cell_type": "markdown",
   "metadata": {},
   "source": [
    "Roughly 50 columns missing 25% of values in the columns will drop these"
   ]
  },
  {
   "cell_type": "code",
   "execution_count": 18,
   "metadata": {
    "ExecuteTime": {
     "end_time": "2021-04-21T05:53:12.845286Z",
     "start_time": "2021-04-21T05:53:08.005285Z"
    }
   },
   "outputs": [
    {
     "data": {
      "text/html": [
       "<div>\n",
       "<style scoped>\n",
       "    .dataframe tbody tr th:only-of-type {\n",
       "        vertical-align: middle;\n",
       "    }\n",
       "\n",
       "    .dataframe tbody tr th {\n",
       "        vertical-align: top;\n",
       "    }\n",
       "\n",
       "    .dataframe thead th {\n",
       "        text-align: right;\n",
       "    }\n",
       "</style>\n",
       "<table border=\"1\" class=\"dataframe\">\n",
       "  <thead>\n",
       "    <tr style=\"text-align: right;\">\n",
       "      <th></th>\n",
       "      <th>index</th>\n",
       "      <th>0</th>\n",
       "    </tr>\n",
       "  </thead>\n",
       "  <tbody>\n",
       "    <tr>\n",
       "      <th>136</th>\n",
       "      <td>hardship_loan_status</td>\n",
       "      <td>9.509789e-01</td>\n",
       "    </tr>\n",
       "    <tr>\n",
       "      <th>127</th>\n",
       "      <td>hardship_reason</td>\n",
       "      <td>9.509033e-01</td>\n",
       "    </tr>\n",
       "    <tr>\n",
       "      <th>128</th>\n",
       "      <td>hardship_status</td>\n",
       "      <td>9.509023e-01</td>\n",
       "    </tr>\n",
       "    <tr>\n",
       "      <th>135</th>\n",
       "      <td>hardship_dpd</td>\n",
       "      <td>9.509016e-01</td>\n",
       "    </tr>\n",
       "    <tr>\n",
       "      <th>133</th>\n",
       "      <td>payment_plan_start_date</td>\n",
       "      <td>9.509013e-01</td>\n",
       "    </tr>\n",
       "    <tr>\n",
       "      <th>...</th>\n",
       "      <td>...</td>\n",
       "      <td>...</td>\n",
       "    </tr>\n",
       "    <tr>\n",
       "      <th>38</th>\n",
       "      <td>total_pymnt</td>\n",
       "      <td>3.418227e-07</td>\n",
       "    </tr>\n",
       "    <tr>\n",
       "      <th>37</th>\n",
       "      <td>out_prncp_inv</td>\n",
       "      <td>3.418227e-07</td>\n",
       "    </tr>\n",
       "    <tr>\n",
       "      <th>36</th>\n",
       "      <td>out_prncp</td>\n",
       "      <td>3.418227e-07</td>\n",
       "    </tr>\n",
       "    <tr>\n",
       "      <th>35</th>\n",
       "      <td>initial_list_status</td>\n",
       "      <td>3.418227e-07</td>\n",
       "    </tr>\n",
       "    <tr>\n",
       "      <th>0</th>\n",
       "      <td>id</td>\n",
       "      <td>0.000000e+00</td>\n",
       "    </tr>\n",
       "  </tbody>\n",
       "</table>\n",
       "<p>141 rows × 2 columns</p>\n",
       "</div>"
      ],
      "text/plain": [
       "                       index             0\n",
       "136     hardship_loan_status  9.509789e-01\n",
       "127          hardship_reason  9.509033e-01\n",
       "128          hardship_status  9.509023e-01\n",
       "135             hardship_dpd  9.509016e-01\n",
       "133  payment_plan_start_date  9.509013e-01\n",
       "..                       ...           ...\n",
       "38               total_pymnt  3.418227e-07\n",
       "37             out_prncp_inv  3.418227e-07\n",
       "36                 out_prncp  3.418227e-07\n",
       "35       initial_list_status  3.418227e-07\n",
       "0                         id  0.000000e+00\n",
       "\n",
       "[141 rows x 2 columns]"
      ]
     },
     "execution_count": 18,
     "metadata": {},
     "output_type": "execute_result"
    }
   ],
   "source": [
    "df.isna().mean().reset_index().sort_values(by=0,ascending=False)"
   ]
  },
  {
   "cell_type": "code",
   "execution_count": 19,
   "metadata": {
    "ExecuteTime": {
     "end_time": "2021-04-21T05:54:40.643283Z",
     "start_time": "2021-04-21T05:54:35.586286Z"
    }
   },
   "outputs": [],
   "source": [
    "nan_pct = df.isna().mean().reset_index().sort_values(by=0,ascending=False)"
   ]
  },
  {
   "cell_type": "code",
   "execution_count": 21,
   "metadata": {
    "ExecuteTime": {
     "end_time": "2021-04-21T05:55:12.427284Z",
     "start_time": "2021-04-21T05:55:12.411285Z"
    }
   },
   "outputs": [
    {
     "name": "stdout",
     "output_type": "stream",
     "text": [
      "49\n"
     ]
    },
    {
     "data": {
      "text/plain": [
       "(136                          hardship_loan_status\n",
       " 127                               hardship_reason\n",
       " 128                               hardship_status\n",
       " 135                                  hardship_dpd\n",
       " 133                       payment_plan_start_date\n",
       " 126                                 hardship_type\n",
       " 129                                 deferral_term\n",
       " 131                           hardship_start_date\n",
       " 132                             hardship_end_date\n",
       " 134                               hardship_length\n",
       " 137    orig_projected_additional_accrued_interest\n",
       " 130                               hardship_amount\n",
       " 138                hardship_payoff_balance_amount\n",
       " 139                  hardship_last_payment_amount\n",
       " 120                            sec_app_revol_util\n",
       " 57                      verification_status_joint\n",
       " 113                               revol_bal_joint\n",
       " 119                              sec_app_open_acc\n",
       " 116                      sec_app_earliest_cr_line\n",
       " 118                              sec_app_mort_acc\n",
       " 117                        sec_app_inq_last_6mths\n",
       " 123              sec_app_chargeoff_within_12_mths\n",
       " 124            sec_app_collections_12_mths_ex_med\n",
       " 122                         sec_app_num_rev_accts\n",
       " 115                       sec_app_fico_range_high\n",
       " 114                        sec_app_fico_range_low\n",
       " 121                           sec_app_open_act_il\n",
       " 56                                      dti_joint\n",
       " 55                               annual_inc_joint\n",
       " 29                         mths_since_last_record\n",
       " 88                       mths_since_recent_bc_dlq\n",
       " 52                    mths_since_last_major_derog\n",
       " 90                 mths_since_recent_revol_delinq\n",
       " 47                                   next_pymnt_d\n",
       " 28                         mths_since_last_delinq\n",
       " 67                                        il_util\n",
       " 65                             mths_since_rcnt_il\n",
       " 71                                       all_util\n",
       " 61                                    open_acc_6m\n",
       " 74                                    total_cu_tl\n",
       " 75                                   inq_last_12m\n",
       " 62                                    open_act_il\n",
       " 63                                    open_il_12m\n",
       " 64                                    open_il_24m\n",
       " 66                                   total_bal_il\n",
       " 68                                    open_rv_12m\n",
       " 69                                    open_rv_24m\n",
       " 73                                         inq_fi\n",
       " 70                                     max_bal_bc\n",
       " Name: index, dtype: object,\n",
       " None)"
      ]
     },
     "execution_count": 21,
     "metadata": {},
     "output_type": "execute_result"
    }
   ],
   "source": [
    "nan_pct[nan_pct[0] >=.25]['index'], print(len(nan_pct[nan_pct[0] >=.25]['index']))"
   ]
  },
  {
   "cell_type": "code",
   "execution_count": 27,
   "metadata": {
    "ExecuteTime": {
     "end_time": "2021-04-21T05:58:15.934266Z",
     "start_time": "2021-04-21T05:58:15.915267Z"
    }
   },
   "outputs": [],
   "source": [
    "cols_to_drop = nan_pct[nan_pct[0] >=.25]['index']"
   ]
  },
  {
   "cell_type": "code",
   "execution_count": 28,
   "metadata": {
    "ExecuteTime": {
     "end_time": "2021-04-21T05:58:25.238266Z",
     "start_time": "2021-04-21T05:58:23.594299Z"
    }
   },
   "outputs": [],
   "source": [
    "#Dropped features with 25% or more nan values\n",
    "df.drop(columns=cols_to_drop,axis=1,inplace=True)"
   ]
  },
  {
   "cell_type": "code",
   "execution_count": 29,
   "metadata": {
    "ExecuteTime": {
     "end_time": "2021-04-21T05:59:30.863840Z",
     "start_time": "2021-04-21T05:58:45.562267Z"
    }
   },
   "outputs": [],
   "source": [
    "#checking predictors for multicollinearity\n",
    "test = df.corr().abs().stack().reset_index().sort_values(0,ascending=False)\n",
    "test['pairs'] = list(zip(test.level_0,test.level_1))\n",
    "test.set_index(['pairs'], inplace=True)\n",
    "test.drop(columns=['level_1','level_0'], inplace=True)\n",
    "test.columns = ['cc']\n",
    "test.drop_duplicates(inplace=True)\n",
    "test.sort_values('cc',ascending=False, inplace=True)\n",
    "multicollinear_predictors = test[test.cc >.75]\n",
    "multicollinear_predictors.reset_index(inplace=True)"
   ]
  },
  {
   "cell_type": "code",
   "execution_count": 30,
   "metadata": {
    "ExecuteTime": {
     "end_time": "2021-04-21T06:02:15.776713Z",
     "start_time": "2021-04-21T06:02:15.761714Z"
    }
   },
   "outputs": [
    {
     "name": "stderr",
     "output_type": "stream",
     "text": [
      "<ipython-input-30-a30768636eb9>:1: SettingWithCopyWarning: \n",
      "A value is trying to be set on a copy of a slice from a DataFrame.\n",
      "Try using .loc[row_indexer,col_indexer] = value instead\n",
      "\n",
      "See the caveats in the documentation: https://pandas.pydata.org/pandas-docs/stable/user_guide/indexing.html#returning-a-view-versus-a-copy\n",
      "  multicollinear_predictors['column_1'] = multicollinear_predictors.pairs.map(lambda x : x[0])\n",
      "<ipython-input-30-a30768636eb9>:2: SettingWithCopyWarning: \n",
      "A value is trying to be set on a copy of a slice from a DataFrame.\n",
      "Try using .loc[row_indexer,col_indexer] = value instead\n",
      "\n",
      "See the caveats in the documentation: https://pandas.pydata.org/pandas-docs/stable/user_guide/indexing.html#returning-a-view-versus-a-copy\n",
      "  multicollinear_predictors['column_2'] = multicollinear_predictors.pairs.map(lambda x : x[1])\n"
     ]
    }
   ],
   "source": [
    "multicollinear_predictors['column_1'] = multicollinear_predictors.pairs.map(lambda x : x[0])\n",
    "multicollinear_predictors['column_2'] = multicollinear_predictors.pairs.map(lambda x : x[1])"
   ]
  },
  {
   "cell_type": "code",
   "execution_count": 31,
   "metadata": {
    "ExecuteTime": {
     "end_time": "2021-04-21T06:02:22.366746Z",
     "start_time": "2021-04-21T06:02:22.352712Z"
    }
   },
   "outputs": [],
   "source": [
    "pd.options.display.max_rows = 40"
   ]
  },
  {
   "cell_type": "code",
   "execution_count": 32,
   "metadata": {
    "ExecuteTime": {
     "end_time": "2021-04-21T06:02:24.474712Z",
     "start_time": "2021-04-21T06:02:24.429713Z"
    }
   },
   "outputs": [
    {
     "data": {
      "text/html": [
       "<div>\n",
       "<style scoped>\n",
       "    .dataframe tbody tr th:only-of-type {\n",
       "        vertical-align: middle;\n",
       "    }\n",
       "\n",
       "    .dataframe tbody tr th {\n",
       "        vertical-align: top;\n",
       "    }\n",
       "\n",
       "    .dataframe thead th {\n",
       "        text-align: right;\n",
       "    }\n",
       "</style>\n",
       "<table border=\"1\" class=\"dataframe\">\n",
       "  <thead>\n",
       "    <tr style=\"text-align: right;\">\n",
       "      <th></th>\n",
       "      <th>pairs</th>\n",
       "      <th>cc</th>\n",
       "      <th>column_1</th>\n",
       "      <th>column_2</th>\n",
       "    </tr>\n",
       "  </thead>\n",
       "  <tbody>\n",
       "    <tr>\n",
       "      <th>0</th>\n",
       "      <td>(loan_amnt, loan_amnt)</td>\n",
       "      <td>1.000000</td>\n",
       "      <td>loan_amnt</td>\n",
       "      <td>loan_amnt</td>\n",
       "    </tr>\n",
       "    <tr>\n",
       "      <th>1</th>\n",
       "      <td>(fico_range_low, fico_range_high)</td>\n",
       "      <td>1.000000</td>\n",
       "      <td>fico_range_low</td>\n",
       "      <td>fico_range_high</td>\n",
       "    </tr>\n",
       "    <tr>\n",
       "      <th>2</th>\n",
       "      <td>(out_prncp, out_prncp_inv)</td>\n",
       "      <td>0.999998</td>\n",
       "      <td>out_prncp</td>\n",
       "      <td>out_prncp_inv</td>\n",
       "    </tr>\n",
       "    <tr>\n",
       "      <th>3</th>\n",
       "      <td>(funded_amnt, loan_amnt)</td>\n",
       "      <td>0.999822</td>\n",
       "      <td>funded_amnt</td>\n",
       "      <td>loan_amnt</td>\n",
       "    </tr>\n",
       "    <tr>\n",
       "      <th>4</th>\n",
       "      <td>(total_pymnt_inv, total_pymnt)</td>\n",
       "      <td>0.999569</td>\n",
       "      <td>total_pymnt_inv</td>\n",
       "      <td>total_pymnt</td>\n",
       "    </tr>\n",
       "    <tr>\n",
       "      <th>5</th>\n",
       "      <td>(funded_amnt, funded_amnt_inv)</td>\n",
       "      <td>0.999520</td>\n",
       "      <td>funded_amnt</td>\n",
       "      <td>funded_amnt_inv</td>\n",
       "    </tr>\n",
       "    <tr>\n",
       "      <th>6</th>\n",
       "      <td>(loan_amnt, funded_amnt_inv)</td>\n",
       "      <td>0.999299</td>\n",
       "      <td>loan_amnt</td>\n",
       "      <td>funded_amnt_inv</td>\n",
       "    </tr>\n",
       "    <tr>\n",
       "      <th>7</th>\n",
       "      <td>(num_sats, open_acc)</td>\n",
       "      <td>0.999149</td>\n",
       "      <td>num_sats</td>\n",
       "      <td>open_acc</td>\n",
       "    </tr>\n",
       "    <tr>\n",
       "      <th>8</th>\n",
       "      <td>(num_actv_rev_tl, num_rev_tl_bal_gt_0)</td>\n",
       "      <td>0.986211</td>\n",
       "      <td>num_actv_rev_tl</td>\n",
       "      <td>num_rev_tl_bal_gt_0</td>\n",
       "    </tr>\n",
       "    <tr>\n",
       "      <th>9</th>\n",
       "      <td>(collection_recovery_fee, recoveries)</td>\n",
       "      <td>0.979642</td>\n",
       "      <td>collection_recovery_fee</td>\n",
       "      <td>recoveries</td>\n",
       "    </tr>\n",
       "    <tr>\n",
       "      <th>10</th>\n",
       "      <td>(tot_cur_bal, tot_hi_cred_lim)</td>\n",
       "      <td>0.976404</td>\n",
       "      <td>tot_cur_bal</td>\n",
       "      <td>tot_hi_cred_lim</td>\n",
       "    </tr>\n",
       "    <tr>\n",
       "      <th>11</th>\n",
       "      <td>(total_rec_prncp, total_pymnt)</td>\n",
       "      <td>0.966415</td>\n",
       "      <td>total_rec_prncp</td>\n",
       "      <td>total_pymnt</td>\n",
       "    </tr>\n",
       "    <tr>\n",
       "      <th>12</th>\n",
       "      <td>(total_pymnt_inv, total_rec_prncp)</td>\n",
       "      <td>0.965965</td>\n",
       "      <td>total_pymnt_inv</td>\n",
       "      <td>total_rec_prncp</td>\n",
       "    </tr>\n",
       "    <tr>\n",
       "      <th>13</th>\n",
       "      <td>(installment, funded_amnt)</td>\n",
       "      <td>0.943827</td>\n",
       "      <td>installment</td>\n",
       "      <td>funded_amnt</td>\n",
       "    </tr>\n",
       "    <tr>\n",
       "      <th>14</th>\n",
       "      <td>(installment, loan_amnt)</td>\n",
       "      <td>0.943581</td>\n",
       "      <td>installment</td>\n",
       "      <td>loan_amnt</td>\n",
       "    </tr>\n",
       "    <tr>\n",
       "      <th>15</th>\n",
       "      <td>(funded_amnt_inv, installment)</td>\n",
       "      <td>0.943187</td>\n",
       "      <td>funded_amnt_inv</td>\n",
       "      <td>installment</td>\n",
       "    </tr>\n",
       "    <tr>\n",
       "      <th>16</th>\n",
       "      <td>(total_bal_ex_mort, total_il_high_credit_limit)</td>\n",
       "      <td>0.882000</td>\n",
       "      <td>total_bal_ex_mort</td>\n",
       "      <td>total_il_high_credit_limit</td>\n",
       "    </tr>\n",
       "    <tr>\n",
       "      <th>17</th>\n",
       "      <td>(bc_open_to_buy, total_bc_limit)</td>\n",
       "      <td>0.852275</td>\n",
       "      <td>bc_open_to_buy</td>\n",
       "      <td>total_bc_limit</td>\n",
       "    </tr>\n",
       "    <tr>\n",
       "      <th>18</th>\n",
       "      <td>(bc_util, percent_bc_gt_75)</td>\n",
       "      <td>0.847521</td>\n",
       "      <td>bc_util</td>\n",
       "      <td>percent_bc_gt_75</td>\n",
       "    </tr>\n",
       "    <tr>\n",
       "      <th>19</th>\n",
       "      <td>(last_fico_range_high, last_fico_range_low)</td>\n",
       "      <td>0.847111</td>\n",
       "      <td>last_fico_range_high</td>\n",
       "      <td>last_fico_range_low</td>\n",
       "    </tr>\n",
       "    <tr>\n",
       "      <th>20</th>\n",
       "      <td>(num_op_rev_tl, open_acc)</td>\n",
       "      <td>0.842363</td>\n",
       "      <td>num_op_rev_tl</td>\n",
       "      <td>open_acc</td>\n",
       "    </tr>\n",
       "    <tr>\n",
       "      <th>21</th>\n",
       "      <td>(num_sats, num_op_rev_tl)</td>\n",
       "      <td>0.841691</td>\n",
       "      <td>num_sats</td>\n",
       "      <td>num_op_rev_tl</td>\n",
       "    </tr>\n",
       "    <tr>\n",
       "      <th>22</th>\n",
       "      <td>(num_bc_tl, num_rev_accts)</td>\n",
       "      <td>0.841267</td>\n",
       "      <td>num_bc_tl</td>\n",
       "      <td>num_rev_accts</td>\n",
       "    </tr>\n",
       "    <tr>\n",
       "      <th>23</th>\n",
       "      <td>(num_bc_sats, num_actv_bc_tl)</td>\n",
       "      <td>0.836619</td>\n",
       "      <td>num_bc_sats</td>\n",
       "      <td>num_actv_bc_tl</td>\n",
       "    </tr>\n",
       "    <tr>\n",
       "      <th>24</th>\n",
       "      <td>(num_actv_rev_tl, num_actv_bc_tl)</td>\n",
       "      <td>0.830364</td>\n",
       "      <td>num_actv_rev_tl</td>\n",
       "      <td>num_actv_bc_tl</td>\n",
       "    </tr>\n",
       "    <tr>\n",
       "      <th>25</th>\n",
       "      <td>(num_rev_tl_bal_gt_0, num_actv_bc_tl)</td>\n",
       "      <td>0.825230</td>\n",
       "      <td>num_rev_tl_bal_gt_0</td>\n",
       "      <td>num_actv_bc_tl</td>\n",
       "    </tr>\n",
       "    <tr>\n",
       "      <th>26</th>\n",
       "      <td>(avg_cur_bal, tot_cur_bal)</td>\n",
       "      <td>0.823918</td>\n",
       "      <td>avg_cur_bal</td>\n",
       "      <td>tot_cur_bal</td>\n",
       "    </tr>\n",
       "    <tr>\n",
       "      <th>27</th>\n",
       "      <td>(num_rev_tl_bal_gt_0, num_op_rev_tl)</td>\n",
       "      <td>0.803469</td>\n",
       "      <td>num_rev_tl_bal_gt_0</td>\n",
       "      <td>num_op_rev_tl</td>\n",
       "    </tr>\n",
       "    <tr>\n",
       "      <th>28</th>\n",
       "      <td>(acc_now_delinq, num_tl_30dpd)</td>\n",
       "      <td>0.801519</td>\n",
       "      <td>acc_now_delinq</td>\n",
       "      <td>num_tl_30dpd</td>\n",
       "    </tr>\n",
       "    <tr>\n",
       "      <th>29</th>\n",
       "      <td>(num_rev_accts, num_op_rev_tl)</td>\n",
       "      <td>0.800397</td>\n",
       "      <td>num_rev_accts</td>\n",
       "      <td>num_op_rev_tl</td>\n",
       "    </tr>\n",
       "    <tr>\n",
       "      <th>30</th>\n",
       "      <td>(num_op_rev_tl, num_actv_rev_tl)</td>\n",
       "      <td>0.800002</td>\n",
       "      <td>num_op_rev_tl</td>\n",
       "      <td>num_actv_rev_tl</td>\n",
       "    </tr>\n",
       "    <tr>\n",
       "      <th>31</th>\n",
       "      <td>(revol_bal, total_rev_hi_lim)</td>\n",
       "      <td>0.791658</td>\n",
       "      <td>revol_bal</td>\n",
       "      <td>total_rev_hi_lim</td>\n",
       "    </tr>\n",
       "    <tr>\n",
       "      <th>32</th>\n",
       "      <td>(tot_hi_cred_lim, avg_cur_bal)</td>\n",
       "      <td>0.782711</td>\n",
       "      <td>tot_hi_cred_lim</td>\n",
       "      <td>avg_cur_bal</td>\n",
       "    </tr>\n",
       "    <tr>\n",
       "      <th>33</th>\n",
       "      <td>(num_bc_sats, num_op_rev_tl)</td>\n",
       "      <td>0.780491</td>\n",
       "      <td>num_bc_sats</td>\n",
       "      <td>num_op_rev_tl</td>\n",
       "    </tr>\n",
       "    <tr>\n",
       "      <th>34</th>\n",
       "      <td>(total_rev_hi_lim, total_bc_limit)</td>\n",
       "      <td>0.779951</td>\n",
       "      <td>total_rev_hi_lim</td>\n",
       "      <td>total_bc_limit</td>\n",
       "    </tr>\n",
       "    <tr>\n",
       "      <th>35</th>\n",
       "      <td>(acc_open_past_24mths, num_tl_op_past_12m)</td>\n",
       "      <td>0.771788</td>\n",
       "      <td>acc_open_past_24mths</td>\n",
       "      <td>num_tl_op_past_12m</td>\n",
       "    </tr>\n",
       "    <tr>\n",
       "      <th>36</th>\n",
       "      <td>(total_acc, num_rev_accts)</td>\n",
       "      <td>0.764571</td>\n",
       "      <td>total_acc</td>\n",
       "      <td>num_rev_accts</td>\n",
       "    </tr>\n",
       "    <tr>\n",
       "      <th>37</th>\n",
       "      <td>(num_bc_sats, num_bc_tl)</td>\n",
       "      <td>0.763108</td>\n",
       "      <td>num_bc_sats</td>\n",
       "      <td>num_bc_tl</td>\n",
       "    </tr>\n",
       "  </tbody>\n",
       "</table>\n",
       "</div>"
      ],
      "text/plain": [
       "                                              pairs        cc  \\\n",
       "0                            (loan_amnt, loan_amnt)  1.000000   \n",
       "1                 (fico_range_low, fico_range_high)  1.000000   \n",
       "2                        (out_prncp, out_prncp_inv)  0.999998   \n",
       "3                          (funded_amnt, loan_amnt)  0.999822   \n",
       "4                    (total_pymnt_inv, total_pymnt)  0.999569   \n",
       "5                    (funded_amnt, funded_amnt_inv)  0.999520   \n",
       "6                      (loan_amnt, funded_amnt_inv)  0.999299   \n",
       "7                              (num_sats, open_acc)  0.999149   \n",
       "8            (num_actv_rev_tl, num_rev_tl_bal_gt_0)  0.986211   \n",
       "9             (collection_recovery_fee, recoveries)  0.979642   \n",
       "10                   (tot_cur_bal, tot_hi_cred_lim)  0.976404   \n",
       "11                   (total_rec_prncp, total_pymnt)  0.966415   \n",
       "12               (total_pymnt_inv, total_rec_prncp)  0.965965   \n",
       "13                       (installment, funded_amnt)  0.943827   \n",
       "14                         (installment, loan_amnt)  0.943581   \n",
       "15                   (funded_amnt_inv, installment)  0.943187   \n",
       "16  (total_bal_ex_mort, total_il_high_credit_limit)  0.882000   \n",
       "17                 (bc_open_to_buy, total_bc_limit)  0.852275   \n",
       "18                      (bc_util, percent_bc_gt_75)  0.847521   \n",
       "19      (last_fico_range_high, last_fico_range_low)  0.847111   \n",
       "20                        (num_op_rev_tl, open_acc)  0.842363   \n",
       "21                        (num_sats, num_op_rev_tl)  0.841691   \n",
       "22                       (num_bc_tl, num_rev_accts)  0.841267   \n",
       "23                    (num_bc_sats, num_actv_bc_tl)  0.836619   \n",
       "24                (num_actv_rev_tl, num_actv_bc_tl)  0.830364   \n",
       "25            (num_rev_tl_bal_gt_0, num_actv_bc_tl)  0.825230   \n",
       "26                       (avg_cur_bal, tot_cur_bal)  0.823918   \n",
       "27             (num_rev_tl_bal_gt_0, num_op_rev_tl)  0.803469   \n",
       "28                   (acc_now_delinq, num_tl_30dpd)  0.801519   \n",
       "29                   (num_rev_accts, num_op_rev_tl)  0.800397   \n",
       "30                 (num_op_rev_tl, num_actv_rev_tl)  0.800002   \n",
       "31                    (revol_bal, total_rev_hi_lim)  0.791658   \n",
       "32                   (tot_hi_cred_lim, avg_cur_bal)  0.782711   \n",
       "33                     (num_bc_sats, num_op_rev_tl)  0.780491   \n",
       "34               (total_rev_hi_lim, total_bc_limit)  0.779951   \n",
       "35       (acc_open_past_24mths, num_tl_op_past_12m)  0.771788   \n",
       "36                       (total_acc, num_rev_accts)  0.764571   \n",
       "37                         (num_bc_sats, num_bc_tl)  0.763108   \n",
       "\n",
       "                   column_1                    column_2  \n",
       "0                 loan_amnt                   loan_amnt  \n",
       "1            fico_range_low             fico_range_high  \n",
       "2                 out_prncp               out_prncp_inv  \n",
       "3               funded_amnt                   loan_amnt  \n",
       "4           total_pymnt_inv                 total_pymnt  \n",
       "5               funded_amnt             funded_amnt_inv  \n",
       "6                 loan_amnt             funded_amnt_inv  \n",
       "7                  num_sats                    open_acc  \n",
       "8           num_actv_rev_tl         num_rev_tl_bal_gt_0  \n",
       "9   collection_recovery_fee                  recoveries  \n",
       "10              tot_cur_bal             tot_hi_cred_lim  \n",
       "11          total_rec_prncp                 total_pymnt  \n",
       "12          total_pymnt_inv             total_rec_prncp  \n",
       "13              installment                 funded_amnt  \n",
       "14              installment                   loan_amnt  \n",
       "15          funded_amnt_inv                 installment  \n",
       "16        total_bal_ex_mort  total_il_high_credit_limit  \n",
       "17           bc_open_to_buy              total_bc_limit  \n",
       "18                  bc_util            percent_bc_gt_75  \n",
       "19     last_fico_range_high         last_fico_range_low  \n",
       "20            num_op_rev_tl                    open_acc  \n",
       "21                 num_sats               num_op_rev_tl  \n",
       "22                num_bc_tl               num_rev_accts  \n",
       "23              num_bc_sats              num_actv_bc_tl  \n",
       "24          num_actv_rev_tl              num_actv_bc_tl  \n",
       "25      num_rev_tl_bal_gt_0              num_actv_bc_tl  \n",
       "26              avg_cur_bal                 tot_cur_bal  \n",
       "27      num_rev_tl_bal_gt_0               num_op_rev_tl  \n",
       "28           acc_now_delinq                num_tl_30dpd  \n",
       "29            num_rev_accts               num_op_rev_tl  \n",
       "30            num_op_rev_tl             num_actv_rev_tl  \n",
       "31                revol_bal            total_rev_hi_lim  \n",
       "32          tot_hi_cred_lim                 avg_cur_bal  \n",
       "33              num_bc_sats               num_op_rev_tl  \n",
       "34         total_rev_hi_lim              total_bc_limit  \n",
       "35     acc_open_past_24mths          num_tl_op_past_12m  \n",
       "36                total_acc               num_rev_accts  \n",
       "37              num_bc_sats                   num_bc_tl  "
      ]
     },
     "execution_count": 32,
     "metadata": {},
     "output_type": "execute_result"
    }
   ],
   "source": [
    "multicollinear_predictors"
   ]
  },
  {
   "cell_type": "code",
   "execution_count": 2,
   "metadata": {
    "ExecuteTime": {
     "end_time": "2021-04-22T05:18:45.241942Z",
     "start_time": "2021-04-22T05:18:45.215939Z"
    }
   },
   "outputs": [
    {
     "data": {
      "text/plain": [
       "15"
      ]
     },
     "execution_count": 2,
     "metadata": {},
     "output_type": "execute_result"
    }
   ],
   "source": [
    "len(corr_drops)"
   ]
  },
  {
   "cell_type": "code",
   "execution_count": 1,
   "metadata": {
    "ExecuteTime": {
     "end_time": "2021-04-22T05:18:40.772947Z",
     "start_time": "2021-04-22T05:18:40.756939Z"
    }
   },
   "outputs": [],
   "source": [
    "corr_drops = ['out_prncp_inv','total_pymnt_inv','funded_amnt_inv','funded_amnt',\n",
    "              'num_sats','tot_hi_cred_lim','num_rev_tl_bal_gt_0','collection_recovery_fee'\n",
    "             ,'bc_open_to_buy','percent_bc_gt_75','open_acc','num_actv_bc_tl','num_actv_rev_tl','num_rev_accts'\n",
    "             ,'total_rev_hi_lim']"
   ]
  },
  {
   "cell_type": "code",
   "execution_count": 34,
   "metadata": {
    "ExecuteTime": {
     "end_time": "2021-04-21T06:02:57.965344Z",
     "start_time": "2021-04-21T06:02:56.520345Z"
    }
   },
   "outputs": [],
   "source": [
    "#Dropping columns that have high correlation (over .75) of which I deemed unnecessary\n",
    "df.drop(columns=corr_drops,axis=1,inplace=True)"
   ]
  },
  {
   "cell_type": "markdown",
   "metadata": {},
   "source": [
    "Modify:\n",
    "1. fico_low high take average\n",
    "2. last_fico_range_high low average\n",
    "\n",
    "\n",
    "Drop:\n",
    " - out_prncp_inv\n",
    " - total_pymnt_inv\n",
    " - funded_amnt_inv\n",
    " - funded_amnt these\n",
    " - num_sats\n",
    " - member_id\n",
    " - num_rev_tl_bal_gt_0\n",
    " - collection_recovery_fee\n",
    " - bc_open_to_buy\n",
    " - percent_bc_gt_75\n",
    " - open_acc\n",
    " - num_actv_bc_tl\n",
    " - num_actv_rev_tl\n",
    " - num_rev_accts\n",
    " - tot_hi_cred_lim\n",
    " - total_rev_hi_lim\n",
    " "
   ]
  },
  {
   "cell_type": "code",
   "execution_count": 35,
   "metadata": {
    "ExecuteTime": {
     "end_time": "2021-04-21T06:03:43.696694Z",
     "start_time": "2021-04-21T06:03:40.064695Z"
    },
    "scrolled": false
   },
   "outputs": [
    {
     "data": {
      "text/plain": [
       "([<matplotlib.axis.YTick at 0x26c8146de20>,\n",
       "  <matplotlib.axis.YTick at 0x26c8146f790>,\n",
       "  <matplotlib.axis.YTick at 0x26c8143b1f0>,\n",
       "  <matplotlib.axis.YTick at 0x26c8143b220>,\n",
       "  <matplotlib.axis.YTick at 0x26c8143b250>,\n",
       "  <matplotlib.axis.YTick at 0x26c8143b370>,\n",
       "  <matplotlib.axis.YTick at 0x26c8143d280>,\n",
       "  <matplotlib.axis.YTick at 0x26c81512580>],\n",
       " [Text(0, 0, ''),\n",
       "  Text(0, 0, ''),\n",
       "  Text(0, 0, ''),\n",
       "  Text(0, 0, ''),\n",
       "  Text(0, 0, ''),\n",
       "  Text(0, 0, ''),\n",
       "  Text(0, 0, ''),\n",
       "  Text(0, 0, '')])"
      ]
     },
     "execution_count": 35,
     "metadata": {},
     "output_type": "execute_result"
    },
    {
     "data": {
      "image/png": "[encoded data removed]",
      "text/plain": [
       "<Figure size 864x576 with 1 Axes>"
      ]
     },
     "metadata": {
      "needs_background": "light"
     },
     "output_type": "display_data"
    }
   ],
   "source": [
    "fig,ax = plt.subplots(figsize=(12,8))\n",
    "sns.histplot(data=df.isna().mean(),bins=16)\n",
    "plt.xticks(np.linspace(0,.15,16))\n",
    "plt.title(\"Histogram of Nan Values as % of Column\")\n",
    "plt.xlabel('% of Rows with NaN Values')\n",
    "plt.yticks(np.linspace(0,70,8))"
   ]
  },
  {
   "cell_type": "code",
   "execution_count": 36,
   "metadata": {
    "ExecuteTime": {
     "end_time": "2021-04-21T06:03:52.267694Z",
     "start_time": "2021-04-21T06:03:52.252717Z"
    }
   },
   "outputs": [],
   "source": [
    "def na_check(data):\n",
    "    check = np.round(data.isna().mean().sort_values(ascending=False),2)\n",
    "    return check"
   ]
  },
  {
   "cell_type": "markdown",
   "metadata": {},
   "source": [
    "1860331 of loans fully paid or charged off i.e. target variable"
   ]
  },
  {
   "cell_type": "code",
   "execution_count": 37,
   "metadata": {
    "ExecuteTime": {
     "end_time": "2021-04-21T06:04:09.340249Z",
     "start_time": "2021-04-21T06:04:09.320233Z"
    }
   },
   "outputs": [
    {
     "name": "stdout",
     "output_type": "stream",
     "text": [
      "<class 'pandas.core.frame.DataFrame'>\n",
      "RangeIndex: 2925493 entries, 0 to 2925492\n",
      "Data columns (total 77 columns):\n",
      " #   Column                      Dtype  \n",
      "---  ------                      -----  \n",
      " 0   id                          object \n",
      " 1   loan_amnt                   float16\n",
      " 2   term                        object \n",
      " 3   int_rate                    object \n",
      " 4   installment                 float16\n",
      " 5   grade                       object \n",
      " 6   sub_grade                   object \n",
      " 7   emp_title                   object \n",
      " 8   emp_length                  object \n",
      " 9   home_ownership              object \n",
      " 10  annual_inc                  float32\n",
      " 11  verification_status         object \n",
      " 12  issue_d                     object \n",
      " 13  loan_status                 object \n",
      " 14  pymnt_plan                  object \n",
      " 15  url                         object \n",
      " 16  purpose                     object \n",
      " 17  title                       object \n",
      " 18  zip_code                    object \n",
      " 19  addr_state                  object \n",
      " 20  dti                         float16\n",
      " 21  delinq_2yrs                 float16\n",
      " 22  earliest_cr_line            object \n",
      " 23  fico_range_low              float16\n",
      " 24  fico_range_high             float16\n",
      " 25  inq_last_6mths              float16\n",
      " 26  pub_rec                     float16\n",
      " 27  revol_bal                   float32\n",
      " 28  revol_util                  object \n",
      " 29  total_acc                   float16\n",
      " 30  initial_list_status         object \n",
      " 31  out_prncp                   float16\n",
      " 32  total_pymnt                 float32\n",
      " 33  total_rec_prncp             float16\n",
      " 34  total_rec_int               float16\n",
      " 35  total_rec_late_fee          float16\n",
      " 36  recoveries                  float16\n",
      " 37  last_pymnt_d                object \n",
      " 38  last_pymnt_amnt             float16\n",
      " 39  last_credit_pull_d          object \n",
      " 40  last_fico_range_high        float16\n",
      " 41  last_fico_range_low         float16\n",
      " 42  collections_12_mths_ex_med  float16\n",
      " 43  policy_code                 float16\n",
      " 44  application_type            object \n",
      " 45  acc_now_delinq              float16\n",
      " 46  tot_coll_amt                float32\n",
      " 47  tot_cur_bal                 float32\n",
      " 48  acc_open_past_24mths        float16\n",
      " 49  avg_cur_bal                 float32\n",
      " 50  bc_util                     float16\n",
      " 51  chargeoff_within_12_mths    float16\n",
      " 52  delinq_amnt                 float32\n",
      " 53  mo_sin_old_il_acct          float16\n",
      " 54  mo_sin_old_rev_tl_op        float16\n",
      " 55  mo_sin_rcnt_rev_tl_op       float16\n",
      " 56  mo_sin_rcnt_tl              float16\n",
      " 57  mort_acc                    float16\n",
      " 58  mths_since_recent_bc        float16\n",
      " 59  mths_since_recent_inq       float16\n",
      " 60  num_accts_ever_120_pd       float16\n",
      " 61  num_bc_sats                 float16\n",
      " 62  num_bc_tl                   float16\n",
      " 63  num_il_tl                   float16\n",
      " 64  num_op_rev_tl               float16\n",
      " 65  num_tl_120dpd_2m            float16\n",
      " 66  num_tl_30dpd                float16\n",
      " 67  num_tl_90g_dpd_24m          float16\n",
      " 68  num_tl_op_past_12m          float16\n",
      " 69  pct_tl_nvr_dlq              float16\n",
      " 70  pub_rec_bankruptcies        float16\n",
      " 71  tax_liens                   float16\n",
      " 72  total_bal_ex_mort           float32\n",
      " 73  total_bc_limit              float32\n",
      " 74  total_il_high_credit_limit  float32\n",
      " 75  hardship_flag               object \n",
      " 76  debt_settlement_flag        object \n",
      "dtypes: float16(42), float32(10), object(25)\n",
      "memory usage: 903.9+ MB\n"
     ]
    }
   ],
   "source": [
    "df.info()"
   ]
  },
  {
   "cell_type": "code",
   "execution_count": 41,
   "metadata": {
    "ExecuteTime": {
     "end_time": "2021-04-21T06:10:05.495565Z",
     "start_time": "2021-04-21T06:10:05.486568Z"
    }
   },
   "outputs": [
    {
     "data": {
      "text/plain": [
       "2925493"
      ]
     },
     "execution_count": 41,
     "metadata": {},
     "output_type": "execute_result"
    }
   ],
   "source": [
    "len(df)"
   ]
  },
  {
   "cell_type": "code",
   "execution_count": 40,
   "metadata": {
    "ExecuteTime": {
     "end_time": "2021-04-21T06:09:56.577560Z",
     "start_time": "2021-04-21T06:09:55.463565Z"
    }
   },
   "outputs": [
    {
     "data": {
      "text/plain": [
       "1860331"
      ]
     },
     "execution_count": 40,
     "metadata": {},
     "output_type": "execute_result"
    }
   ],
   "source": [
    "len(df.loc[df['loan_status'].isin(['Fully Paid','Charged Off'])])"
   ]
  },
  {
   "cell_type": "code",
   "execution_count": 42,
   "metadata": {
    "ExecuteTime": {
     "end_time": "2021-04-21T06:11:07.527562Z",
     "start_time": "2021-04-21T06:11:06.590560Z"
    }
   },
   "outputs": [],
   "source": [
    "#our target variable is loan status and whether or not a client who received a loan fully paid or charged off their loan\n",
    "#will make a df with only these values so we can model \n",
    "clean = df.loc[df['loan_status'].isin(['Fully Paid','Charged Off'])]"
   ]
  },
  {
   "cell_type": "code",
   "execution_count": 43,
   "metadata": {
    "ExecuteTime": {
     "end_time": "2021-04-21T06:11:13.200561Z",
     "start_time": "2021-04-21T06:11:11.150562Z"
    }
   },
   "outputs": [
    {
     "data": {
      "text/plain": [
       "mths_since_recent_inq         0.12\n",
       "num_tl_120dpd_2m              0.07\n",
       "emp_title                     0.07\n",
       "mo_sin_old_il_acct            0.07\n",
       "emp_length                    0.06\n",
       "bc_util                       0.04\n",
       "pct_tl_nvr_dlq                0.04\n",
       "avg_cur_bal                   0.04\n",
       "mo_sin_rcnt_rev_tl_op         0.04\n",
       "mo_sin_old_rev_tl_op          0.04\n",
       "num_tl_30dpd                  0.04\n",
       "num_accts_ever_120_pd         0.04\n",
       "tot_cur_bal                   0.04\n",
       "num_tl_90g_dpd_24m            0.04\n",
       "total_il_high_credit_limit    0.04\n",
       "num_tl_op_past_12m            0.04\n",
       "mo_sin_rcnt_tl                0.04\n",
       "num_bc_tl                     0.04\n",
       "num_il_tl                     0.04\n",
       "num_op_rev_tl                 0.04\n",
       "dtype: float64"
      ]
     },
     "execution_count": 43,
     "metadata": {},
     "output_type": "execute_result"
    }
   ],
   "source": [
    "na_check(clean).head(20)"
   ]
  },
  {
   "cell_type": "code",
   "execution_count": 44,
   "metadata": {
    "ExecuteTime": {
     "end_time": "2021-04-21T06:12:54.644935Z",
     "start_time": "2021-04-21T06:12:52.350938Z"
    }
   },
   "outputs": [],
   "source": [
    "rem_nans = np.round(clean.isna().mean().sort_values(ascending=False),2)\n",
    "five_pc_nan = list(rem_nans[(rem_nans>0) & (rem_nans <.05)].index)"
   ]
  },
  {
   "cell_type": "code",
   "execution_count": 47,
   "metadata": {
    "ExecuteTime": {
     "end_time": "2021-04-21T06:13:29.437676Z",
     "start_time": "2021-04-21T06:13:29.429676Z"
    }
   },
   "outputs": [
    {
     "data": {
      "text/plain": [
       "1860331"
      ]
     },
     "execution_count": 47,
     "metadata": {},
     "output_type": "execute_result"
    }
   ],
   "source": [
    "len(clean)"
   ]
  },
  {
   "cell_type": "code",
   "execution_count": 48,
   "metadata": {
    "ExecuteTime": {
     "end_time": "2021-04-21T06:13:43.033676Z",
     "start_time": "2021-04-21T06:13:41.365676Z"
    }
   },
   "outputs": [
    {
     "name": "stderr",
     "output_type": "stream",
     "text": [
      "<ipython-input-48-a53ae10695cc>:1: SettingWithCopyWarning: \n",
      "A value is trying to be set on a copy of a slice from a DataFrame\n",
      "\n",
      "See the caveats in the documentation: https://pandas.pydata.org/pandas-docs/stable/user_guide/indexing.html#returning-a-view-versus-a-copy\n",
      "  clean.dropna(subset=five_pc_nan,inplace=True)\n"
     ]
    }
   ],
   "source": [
    "clean.dropna(subset=five_pc_nan,inplace=True)"
   ]
  },
  {
   "cell_type": "markdown",
   "metadata": {},
   "source": [
    "0.07% of rows dropped for nan values or 119,268 rows"
   ]
  },
  {
   "cell_type": "code",
   "execution_count": 50,
   "metadata": {
    "ExecuteTime": {
     "end_time": "2021-04-21T06:14:07.139276Z",
     "start_time": "2021-04-21T06:14:07.133281Z"
    }
   },
   "outputs": [
    {
     "data": {
      "text/plain": [
       "119268"
      ]
     },
     "execution_count": 50,
     "metadata": {},
     "output_type": "execute_result"
    }
   ],
   "source": [
    "1860331 - len(clean)"
   ]
  },
  {
   "cell_type": "code",
   "execution_count": 20,
   "metadata": {
    "ExecuteTime": {
     "end_time": "2021-04-02T01:59:25.075232Z",
     "start_time": "2021-04-02T01:59:23.770934Z"
    }
   },
   "outputs": [
    {
     "data": {
      "text/plain": [
       "mths_since_recent_inq    0.10\n",
       "emp_title                0.07\n",
       "emp_length               0.06\n",
       "num_tl_120dpd_2m         0.04\n",
       "mo_sin_old_il_acct       0.03\n",
       "last_pymnt_d             0.00\n",
       "dti                      0.00\n",
       "last_credit_pull_d       0.00\n",
       "zip_code                 0.00\n",
       "inq_last_6mths           0.00\n",
       "dtype: float64"
      ]
     },
     "execution_count": 20,
     "metadata": {},
     "output_type": "execute_result"
    }
   ],
   "source": [
    "(na_check(clean)).head(10)"
   ]
  },
  {
   "cell_type": "code",
   "execution_count": 51,
   "metadata": {
    "ExecuteTime": {
     "end_time": "2021-04-21T06:17:01.043340Z",
     "start_time": "2021-04-21T06:15:05.150228Z"
    }
   },
   "outputs": [],
   "source": [
    "#exporting as csv and finishing in another notebook as the sheer size of the file causes latency issues\n",
    "clean.to_csv('data\\cleaned_data')"
   ]
  }
 ],
 "metadata": {
  "kernelspec": {
   "display_name": "Python 3",
   "language": "python",
   "name": "python3"
  },
  "language_info": {
   "codemirror_mode": {
    "name": "ipython",
    "version": 3
   },
   "file_extension": ".py",
   "mimetype": "text/x-python",
   "name": "python",
   "nbconvert_exporter": "python",
   "pygments_lexer": "ipython3",
   "version": "3.8.5"
  },
  "latex_envs": {
   "LaTeX_envs_menu_present": true,
   "autoclose": false,
   "autocomplete": true,
   "bibliofile": "biblio.bib",
   "cite_by": "apalike",
   "current_citInitial": 1,
   "eqLabelWithNumbers": true,
   "eqNumInitial": 1,
   "hotkeys": {
    "equation": "Ctrl-E",
    "itemize": "Ctrl-I"
   },
   "labels_anchors": false,
   "latex_user_defs": false,
   "report_style_numbering": false,
   "user_envs_cfg": false
  },
  "toc": {
   "base_numbering": 1,
   "nav_menu": {},
   "number_sections": true,
   "sideBar": true,
   "skip_h1_title": false,
   "title_cell": "Table of Contents",
   "title_sidebar": "Contents",
   "toc_cell": false,
   "toc_position": {},
   "toc_section_display": true,
   "toc_window_display": false
  },
  "varInspector": {
   "cols": {
    "lenName": 16,
    "lenType": 16,
    "lenVar": 40
   },
   "kernels_config": {
    "python": {
     "delete_cmd_postfix": "",
     "delete_cmd_prefix": "del ",
     "library": "var_list.py",
     "varRefreshCmd": "print(var_dic_list())"
    },
    "r": {
     "delete_cmd_postfix": ") ",
     "delete_cmd_prefix": "rm(",
     "library": "var_list.r",
     "varRefreshCmd": "cat(var_dic_list()) "
    }
   },
   "position": {
    "height": "1197.2px",
    "left": "1466.11px",
    "right": "20px",
    "top": "120px",
    "width": "472.778px"
   },
   "types_to_exclude": [
    "module",
    "function",
    "builtin_function_or_method",
    "instance",
    "_Feature"
   ],
   "window_display": false
  }
 },
 "nbformat": 4,
 "nbformat_minor": 4
}
