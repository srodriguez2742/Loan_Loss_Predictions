{
 "cells": [
  {
   "cell_type": "code",
   "execution_count": 1,
   "metadata": {
    "ExecuteTime": {
     "end_time": "2021-04-21T06:20:02.502575Z",
     "start_time": "2021-04-21T06:20:00.559545Z"
    }
   },
   "outputs": [],
   "source": [
    "import pandas as pd\n",
    "import numpy as np\n",
    "import pandas as pd\n",
    "import os\n",
    "\n",
    "import matplotlib.pyplot as plt\n",
    "import seaborn as sns\n",
    "\n",
    "from sklearn.preprocessing import MinMaxScaler\n",
    "from sklearn.linear_model import LogisticRegression\n",
    "from sklearn.model_selection import train_test_split\n",
    "from sklearn.metrics import plot_confusion_matrix\n",
    "from sklearn.metrics import confusion_matrix, classification_report\n",
    "from sklearn.metrics import roc_curve, auc\n",
    "from sklearn.metrics import precision_score, recall_score, accuracy_score, f1_score\n",
    "from sklearn.preprocessing import StandardScaler\n",
    "from sklearn.neighbors import KNeighborsClassifier\n",
    "from sklearn.tree import DecisionTreeClassifier\n",
    "from sklearn.tree import plot_tree\n",
    "from sklearn.utils import resample\n",
    "from imblearn.over_sampling import SMOTE\n",
    "\n",
    "from sklearn.ensemble import BaggingClassifier, RandomForestClassifier\n",
    "from sklearn.model_selection import GridSearchCV, cross_val_score\n",
    "from sklearn.ensemble import AdaBoostClassifier, GradientBoostingClassifier\n",
    "from xgboost import XGBClassifier\n",
    "\n",
    "from sklearn import tree\n",
    "import xgboost as xgb\n",
    "from numpy import loadtxt\n",
    "from xgboost import XGBClassifier\n",
    "from xgboost import plot_tree\n",
    "\n",
    "import gc\n",
    "from tqdm import tqdm"
   ]
  },
  {
   "cell_type": "code",
   "execution_count": 2,
   "metadata": {
    "ExecuteTime": {
     "end_time": "2021-04-21T06:20:02.549546Z",
     "start_time": "2021-04-21T06:20:02.535579Z"
    }
   },
   "outputs": [],
   "source": [
    "def column_info(col_name):\n",
    "    return column_defs.loc[col_name]['Description']"
   ]
  },
  {
   "cell_type": "code",
   "execution_count": 3,
   "metadata": {
    "ExecuteTime": {
     "end_time": "2021-04-21T06:20:02.595581Z",
     "start_time": "2021-04-21T06:20:02.581548Z"
    }
   },
   "outputs": [],
   "source": [
    "def na_check(data):\n",
    "    check = np.round(data.isna().mean().sort_values(ascending=False),2)\n",
    "    return check"
   ]
  },
  {
   "cell_type": "code",
   "execution_count": 4,
   "metadata": {
    "ExecuteTime": {
     "end_time": "2021-04-21T06:20:02.960545Z",
     "start_time": "2021-04-21T06:20:02.915576Z"
    }
   },
   "outputs": [
    {
     "data": {
      "text/plain": [
       "Index(['Description'], dtype='object')"
      ]
     },
     "execution_count": 4,
     "metadata": {},
     "output_type": "execute_result"
    }
   ],
   "source": [
    "column_defs = pd.read_excel('data\\LCDataDictionary.xlsx',index_col='LoanStatNew')\n",
    "column_defs.columns"
   ]
  },
  {
   "cell_type": "code",
   "execution_count": 5,
   "metadata": {
    "ExecuteTime": {
     "end_time": "2021-04-21T06:20:03.749546Z",
     "start_time": "2021-04-21T06:20:03.731579Z"
    }
   },
   "outputs": [],
   "source": [
    "def reduce_mem_usage(df, int_cast=True, obj_to_category=False, subset=None):\n",
    "    \"\"\"\n",
    "    Iterate through all the columns of a dataframe and modify the data type to reduce memory usage.\n",
    "    :param df: dataframe to reduce (pd.DataFrame)\n",
    "    :param int_cast: indicate if columns should be tried to be casted to int (bool)\n",
    "    :param obj_to_category: convert non-datetime related objects to category dtype (bool)\n",
    "    :param subset: subset of columns to analyse (list)\n",
    "    :return: dataset with the column dtypes adjusted (pd.DataFrame)\n",
    "    \"\"\"\n",
    "    start_mem = df.memory_usage().sum() / 1024 ** 2;\n",
    "    gc.collect()\n",
    "    print('Memory usage of dataframe is {:.2f} MB'.format(start_mem))\n",
    "\n",
    "    cols = subset if subset is not None else df.columns.tolist()\n",
    "\n",
    "    for col in tqdm(cols):\n",
    "        col_type = df[col].dtype\n",
    "\n",
    "        if col_type != object and col_type.name != 'category' and 'datetime' not in col_type.name:\n",
    "            c_min = df[col].min()\n",
    "            c_max = df[col].max()\n",
    "\n",
    "            # test if column can be converted to an integer\n",
    "            treat_as_int = str(col_type)[:3] == 'int'\n",
    "            if int_cast and not treat_as_int:\n",
    "                treat_as_int = check_if_integer(df[col])\n",
    "\n",
    "            if treat_as_int:\n",
    "                if c_min > np.iinfo(np.int8).min and c_max < np.iinfo(np.int8).max:\n",
    "                    df[col] = df[col].astype(np.int8)\n",
    "                elif c_min > np.iinfo(np.uint8).min and c_max < np.iinfo(np.uint8).max:\n",
    "                    df[col] = df[col].astype(np.uint8)\n",
    "                elif c_min > np.iinfo(np.int16).min and c_max < np.iinfo(np.int16).max:\n",
    "                    df[col] = df[col].astype(np.int16)\n",
    "                elif c_min > np.iinfo(np.uint16).min and c_max < np.iinfo(np.uint16).max:\n",
    "                    df[col] = df[col].astype(np.uint16)\n",
    "                elif c_min > np.iinfo(np.int32).min and c_max < np.iinfo(np.int32).max:\n",
    "                    df[col] = df[col].astype(np.int32)\n",
    "                elif c_min > np.iinfo(np.uint32).min and c_max < np.iinfo(np.uint32).max:\n",
    "                    df[col] = df[col].astype(np.uint32)\n",
    "                elif c_min > np.iinfo(np.int64).min and c_max < np.iinfo(np.int64).max:\n",
    "                    df[col] = df[col].astype(np.int64)\n",
    "                elif c_min > np.iinfo(np.uint64).min and c_max < np.iinfo(np.uint64).max:\n",
    "                    df[col] = df[col].astype(np.uint64)\n",
    "            else:\n",
    "                if c_min > np.finfo(np.float16).min and c_max < np.finfo(np.float16).max:\n",
    "                    df[col] = df[col].astype(np.float16)\n",
    "                elif c_min > np.finfo(np.float32).min and c_max < np.finfo(np.float32).max:\n",
    "                    df[col] = df[col].astype(np.float32)\n",
    "                else:\n",
    "                    df[col] = df[col].astype(np.float64)\n",
    "        elif 'datetime' not in col_type.name and obj_to_category:\n",
    "            df[col] = df[col].astype('category')\n",
    "    gc.collect()\n",
    "    end_mem = df.memory_usage().sum() / 1024 ** 2\n",
    "    print('Memory usage after optimization is: {:.3f} MB'.format(end_mem))\n",
    "    print('Decreased by {:.1f}%'.format(100 * (start_mem - end_mem) / start_mem))\n",
    "\n",
    "    return df"
   ]
  },
  {
   "cell_type": "code",
   "execution_count": 6,
   "metadata": {
    "ExecuteTime": {
     "end_time": "2021-04-21T06:20:18.098607Z",
     "start_time": "2021-04-21T06:20:05.595547Z"
    }
   },
   "outputs": [],
   "source": [
    "df = pd.read_csv('data/cleaned_data')"
   ]
  },
  {
   "cell_type": "code",
   "execution_count": 7,
   "metadata": {
    "ExecuteTime": {
     "end_time": "2021-04-21T06:20:27.836570Z",
     "start_time": "2021-04-21T06:20:18.906573Z"
    }
   },
   "outputs": [
    {
     "name": "stderr",
     "output_type": "stream",
     "text": [
      "\r",
      "  0%|          | 0/78 [00:00<?, ?it/s]"
     ]
    },
    {
     "name": "stdout",
     "output_type": "stream",
     "text": [
      "Memory usage of dataframe is 1036.09 MB\n"
     ]
    },
    {
     "name": "stderr",
     "output_type": "stream",
     "text": [
      "100%|██████████| 78/78 [00:08<00:00,  9.57it/s]\n"
     ]
    },
    {
     "name": "stdout",
     "output_type": "stream",
     "text": [
      "Memory usage after optimization is: 537.972 MB\n",
      "Decreased by 48.1%\n"
     ]
    },
    {
     "data": {
      "text/html": [
       "<div>\n",
       "<style scoped>\n",
       "    .dataframe tbody tr th:only-of-type {\n",
       "        vertical-align: middle;\n",
       "    }\n",
       "\n",
       "    .dataframe tbody tr th {\n",
       "        vertical-align: top;\n",
       "    }\n",
       "\n",
       "    .dataframe thead th {\n",
       "        text-align: right;\n",
       "    }\n",
       "</style>\n",
       "<table border=\"1\" class=\"dataframe\">\n",
       "  <thead>\n",
       "    <tr style=\"text-align: right;\">\n",
       "      <th></th>\n",
       "      <th>Unnamed: 0</th>\n",
       "      <th>id</th>\n",
       "      <th>loan_amnt</th>\n",
       "      <th>term</th>\n",
       "      <th>int_rate</th>\n",
       "      <th>installment</th>\n",
       "      <th>grade</th>\n",
       "      <th>sub_grade</th>\n",
       "      <th>emp_title</th>\n",
       "      <th>emp_length</th>\n",
       "      <th>...</th>\n",
       "      <th>num_tl_90g_dpd_24m</th>\n",
       "      <th>num_tl_op_past_12m</th>\n",
       "      <th>pct_tl_nvr_dlq</th>\n",
       "      <th>pub_rec_bankruptcies</th>\n",
       "      <th>tax_liens</th>\n",
       "      <th>total_bal_ex_mort</th>\n",
       "      <th>total_bc_limit</th>\n",
       "      <th>total_il_high_credit_limit</th>\n",
       "      <th>hardship_flag</th>\n",
       "      <th>debt_settlement_flag</th>\n",
       "    </tr>\n",
       "  </thead>\n",
       "  <tbody>\n",
       "    <tr>\n",
       "      <th>0</th>\n",
       "      <td>42536</td>\n",
       "      <td>10129454</td>\n",
       "      <td>12000.0</td>\n",
       "      <td>36 months</td>\n",
       "      <td>10.99%</td>\n",
       "      <td>392.750</td>\n",
       "      <td>B</td>\n",
       "      <td>B2</td>\n",
       "      <td>Project Manager</td>\n",
       "      <td>4 years</td>\n",
       "      <td>...</td>\n",
       "      <td>0.0</td>\n",
       "      <td>4.0</td>\n",
       "      <td>100.0000</td>\n",
       "      <td>0.0</td>\n",
       "      <td>0.0</td>\n",
       "      <td>7137.0</td>\n",
       "      <td>18100.0</td>\n",
       "      <td>0.0</td>\n",
       "      <td>N</td>\n",
       "      <td>N</td>\n",
       "    </tr>\n",
       "    <tr>\n",
       "      <th>1</th>\n",
       "      <td>42537</td>\n",
       "      <td>10149488</td>\n",
       "      <td>4800.0</td>\n",
       "      <td>36 months</td>\n",
       "      <td>10.99%</td>\n",
       "      <td>157.125</td>\n",
       "      <td>B</td>\n",
       "      <td>B2</td>\n",
       "      <td>Surgical Technician</td>\n",
       "      <td>2 years</td>\n",
       "      <td>...</td>\n",
       "      <td>0.0</td>\n",
       "      <td>0.0</td>\n",
       "      <td>100.0000</td>\n",
       "      <td>0.0</td>\n",
       "      <td>0.0</td>\n",
       "      <td>4136.0</td>\n",
       "      <td>25700.0</td>\n",
       "      <td>0.0</td>\n",
       "      <td>N</td>\n",
       "      <td>N</td>\n",
       "    </tr>\n",
       "    <tr>\n",
       "      <th>2</th>\n",
       "      <td>42538</td>\n",
       "      <td>10149342</td>\n",
       "      <td>27056.0</td>\n",
       "      <td>36 months</td>\n",
       "      <td>10.99%</td>\n",
       "      <td>885.500</td>\n",
       "      <td>B</td>\n",
       "      <td>B2</td>\n",
       "      <td>Team Leadern Customer Ops &amp; Systems</td>\n",
       "      <td>10+ years</td>\n",
       "      <td>...</td>\n",
       "      <td>0.0</td>\n",
       "      <td>1.0</td>\n",
       "      <td>100.0000</td>\n",
       "      <td>0.0</td>\n",
       "      <td>0.0</td>\n",
       "      <td>70186.0</td>\n",
       "      <td>35700.0</td>\n",
       "      <td>33054.0</td>\n",
       "      <td>N</td>\n",
       "      <td>N</td>\n",
       "    </tr>\n",
       "    <tr>\n",
       "      <th>3</th>\n",
       "      <td>42539</td>\n",
       "      <td>10148122</td>\n",
       "      <td>12000.0</td>\n",
       "      <td>36 months</td>\n",
       "      <td>7.62%</td>\n",
       "      <td>374.000</td>\n",
       "      <td>A</td>\n",
       "      <td>A3</td>\n",
       "      <td>Systems Engineer</td>\n",
       "      <td>3 years</td>\n",
       "      <td>...</td>\n",
       "      <td>0.0</td>\n",
       "      <td>3.0</td>\n",
       "      <td>100.0000</td>\n",
       "      <td>0.0</td>\n",
       "      <td>0.0</td>\n",
       "      <td>46738.0</td>\n",
       "      <td>14800.0</td>\n",
       "      <td>53404.0</td>\n",
       "      <td>N</td>\n",
       "      <td>N</td>\n",
       "    </tr>\n",
       "    <tr>\n",
       "      <th>4</th>\n",
       "      <td>42540</td>\n",
       "      <td>10129477</td>\n",
       "      <td>14000.0</td>\n",
       "      <td>36 months</td>\n",
       "      <td>12.85%</td>\n",
       "      <td>470.750</td>\n",
       "      <td>B</td>\n",
       "      <td>B4</td>\n",
       "      <td>Assistant Director - Human Resources</td>\n",
       "      <td>4 years</td>\n",
       "      <td>...</td>\n",
       "      <td>0.0</td>\n",
       "      <td>0.0</td>\n",
       "      <td>78.6250</td>\n",
       "      <td>1.0</td>\n",
       "      <td>0.0</td>\n",
       "      <td>17672.0</td>\n",
       "      <td>3900.0</td>\n",
       "      <td>27340.0</td>\n",
       "      <td>N</td>\n",
       "      <td>N</td>\n",
       "    </tr>\n",
       "    <tr>\n",
       "      <th>...</th>\n",
       "      <td>...</td>\n",
       "      <td>...</td>\n",
       "      <td>...</td>\n",
       "      <td>...</td>\n",
       "      <td>...</td>\n",
       "      <td>...</td>\n",
       "      <td>...</td>\n",
       "      <td>...</td>\n",
       "      <td>...</td>\n",
       "      <td>...</td>\n",
       "      <td>...</td>\n",
       "      <td>...</td>\n",
       "      <td>...</td>\n",
       "      <td>...</td>\n",
       "      <td>...</td>\n",
       "      <td>...</td>\n",
       "      <td>...</td>\n",
       "      <td>...</td>\n",
       "      <td>...</td>\n",
       "      <td>...</td>\n",
       "      <td>...</td>\n",
       "    </tr>\n",
       "    <tr>\n",
       "      <th>1741058</th>\n",
       "      <td>2925488</td>\n",
       "      <td>102556443</td>\n",
       "      <td>24000.0</td>\n",
       "      <td>60 months</td>\n",
       "      <td>23.99%</td>\n",
       "      <td>690.500</td>\n",
       "      <td>E</td>\n",
       "      <td>E2</td>\n",
       "      <td>Senior Escrow Officer</td>\n",
       "      <td>&lt; 1 year</td>\n",
       "      <td>...</td>\n",
       "      <td>1.0</td>\n",
       "      <td>2.0</td>\n",
       "      <td>87.5000</td>\n",
       "      <td>1.0</td>\n",
       "      <td>1.0</td>\n",
       "      <td>60812.0</td>\n",
       "      <td>28200.0</td>\n",
       "      <td>64422.0</td>\n",
       "      <td>N</td>\n",
       "      <td>N</td>\n",
       "    </tr>\n",
       "    <tr>\n",
       "      <th>1741059</th>\n",
       "      <td>2925489</td>\n",
       "      <td>102653304</td>\n",
       "      <td>10000.0</td>\n",
       "      <td>36 months</td>\n",
       "      <td>7.99%</td>\n",
       "      <td>313.250</td>\n",
       "      <td>A</td>\n",
       "      <td>A5</td>\n",
       "      <td>Rn</td>\n",
       "      <td>10+ years</td>\n",
       "      <td>...</td>\n",
       "      <td>0.0</td>\n",
       "      <td>2.0</td>\n",
       "      <td>92.6250</td>\n",
       "      <td>0.0</td>\n",
       "      <td>0.0</td>\n",
       "      <td>55863.0</td>\n",
       "      <td>34800.0</td>\n",
       "      <td>70203.0</td>\n",
       "      <td>N</td>\n",
       "      <td>N</td>\n",
       "    </tr>\n",
       "    <tr>\n",
       "      <th>1741060</th>\n",
       "      <td>2925490</td>\n",
       "      <td>102628603</td>\n",
       "      <td>10048.0</td>\n",
       "      <td>36 months</td>\n",
       "      <td>16.99%</td>\n",
       "      <td>358.250</td>\n",
       "      <td>D</td>\n",
       "      <td>D1</td>\n",
       "      <td>Sales Associate</td>\n",
       "      <td>8 years</td>\n",
       "      <td>...</td>\n",
       "      <td>0.0</td>\n",
       "      <td>5.0</td>\n",
       "      <td>95.1875</td>\n",
       "      <td>0.0</td>\n",
       "      <td>0.0</td>\n",
       "      <td>14300.0</td>\n",
       "      <td>9000.0</td>\n",
       "      <td>0.0</td>\n",
       "      <td>N</td>\n",
       "      <td>N</td>\n",
       "    </tr>\n",
       "    <tr>\n",
       "      <th>1741061</th>\n",
       "      <td>2925491</td>\n",
       "      <td>102196576</td>\n",
       "      <td>6000.0</td>\n",
       "      <td>36 months</td>\n",
       "      <td>11.44%</td>\n",
       "      <td>197.750</td>\n",
       "      <td>B</td>\n",
       "      <td>B4</td>\n",
       "      <td>Contact input</td>\n",
       "      <td>5 years</td>\n",
       "      <td>...</td>\n",
       "      <td>0.0</td>\n",
       "      <td>1.0</td>\n",
       "      <td>94.3750</td>\n",
       "      <td>0.0</td>\n",
       "      <td>0.0</td>\n",
       "      <td>26201.0</td>\n",
       "      <td>8100.0</td>\n",
       "      <td>34076.0</td>\n",
       "      <td>N</td>\n",
       "      <td>N</td>\n",
       "    </tr>\n",
       "    <tr>\n",
       "      <th>1741062</th>\n",
       "      <td>2925492</td>\n",
       "      <td>99799684</td>\n",
       "      <td>30000.0</td>\n",
       "      <td>60 months</td>\n",
       "      <td>25.49%</td>\n",
       "      <td>889.000</td>\n",
       "      <td>E</td>\n",
       "      <td>E4</td>\n",
       "      <td>Assistant Manager</td>\n",
       "      <td>4 years</td>\n",
       "      <td>...</td>\n",
       "      <td>0.0</td>\n",
       "      <td>1.0</td>\n",
       "      <td>91.3125</td>\n",
       "      <td>0.0</td>\n",
       "      <td>0.0</td>\n",
       "      <td>75819.0</td>\n",
       "      <td>16000.0</td>\n",
       "      <td>89732.0</td>\n",
       "      <td>N</td>\n",
       "      <td>N</td>\n",
       "    </tr>\n",
       "  </tbody>\n",
       "</table>\n",
       "<p>1741063 rows × 78 columns</p>\n",
       "</div>"
      ],
      "text/plain": [
       "         Unnamed: 0         id  loan_amnt        term int_rate  installment  \\\n",
       "0             42536   10129454    12000.0   36 months   10.99%      392.750   \n",
       "1             42537   10149488     4800.0   36 months   10.99%      157.125   \n",
       "2             42538   10149342    27056.0   36 months   10.99%      885.500   \n",
       "3             42539   10148122    12000.0   36 months    7.62%      374.000   \n",
       "4             42540   10129477    14000.0   36 months   12.85%      470.750   \n",
       "...             ...        ...        ...         ...      ...          ...   \n",
       "1741058     2925488  102556443    24000.0   60 months   23.99%      690.500   \n",
       "1741059     2925489  102653304    10000.0   36 months    7.99%      313.250   \n",
       "1741060     2925490  102628603    10048.0   36 months   16.99%      358.250   \n",
       "1741061     2925491  102196576     6000.0   36 months   11.44%      197.750   \n",
       "1741062     2925492   99799684    30000.0   60 months   25.49%      889.000   \n",
       "\n",
       "        grade sub_grade                             emp_title emp_length  ...  \\\n",
       "0           B        B2                       Project Manager    4 years  ...   \n",
       "1           B        B2                   Surgical Technician    2 years  ...   \n",
       "2           B        B2   Team Leadern Customer Ops & Systems  10+ years  ...   \n",
       "3           A        A3                      Systems Engineer    3 years  ...   \n",
       "4           B        B4  Assistant Director - Human Resources    4 years  ...   \n",
       "...       ...       ...                                   ...        ...  ...   \n",
       "1741058     E        E2                 Senior Escrow Officer   < 1 year  ...   \n",
       "1741059     A        A5                                    Rn  10+ years  ...   \n",
       "1741060     D        D1                       Sales Associate    8 years  ...   \n",
       "1741061     B        B4                         Contact input    5 years  ...   \n",
       "1741062     E        E4                     Assistant Manager    4 years  ...   \n",
       "\n",
       "        num_tl_90g_dpd_24m  num_tl_op_past_12m pct_tl_nvr_dlq  \\\n",
       "0                      0.0                 4.0       100.0000   \n",
       "1                      0.0                 0.0       100.0000   \n",
       "2                      0.0                 1.0       100.0000   \n",
       "3                      0.0                 3.0       100.0000   \n",
       "4                      0.0                 0.0        78.6250   \n",
       "...                    ...                 ...            ...   \n",
       "1741058                1.0                 2.0        87.5000   \n",
       "1741059                0.0                 2.0        92.6250   \n",
       "1741060                0.0                 5.0        95.1875   \n",
       "1741061                0.0                 1.0        94.3750   \n",
       "1741062                0.0                 1.0        91.3125   \n",
       "\n",
       "        pub_rec_bankruptcies tax_liens total_bal_ex_mort total_bc_limit  \\\n",
       "0                        0.0       0.0            7137.0        18100.0   \n",
       "1                        0.0       0.0            4136.0        25700.0   \n",
       "2                        0.0       0.0           70186.0        35700.0   \n",
       "3                        0.0       0.0           46738.0        14800.0   \n",
       "4                        1.0       0.0           17672.0         3900.0   \n",
       "...                      ...       ...               ...            ...   \n",
       "1741058                  1.0       1.0           60812.0        28200.0   \n",
       "1741059                  0.0       0.0           55863.0        34800.0   \n",
       "1741060                  0.0       0.0           14300.0         9000.0   \n",
       "1741061                  0.0       0.0           26201.0         8100.0   \n",
       "1741062                  0.0       0.0           75819.0        16000.0   \n",
       "\n",
       "        total_il_high_credit_limit hardship_flag debt_settlement_flag  \n",
       "0                              0.0             N                    N  \n",
       "1                              0.0             N                    N  \n",
       "2                          33054.0             N                    N  \n",
       "3                          53404.0             N                    N  \n",
       "4                          27340.0             N                    N  \n",
       "...                            ...           ...                  ...  \n",
       "1741058                    64422.0             N                    N  \n",
       "1741059                    70203.0             N                    N  \n",
       "1741060                        0.0             N                    N  \n",
       "1741061                    34076.0             N                    N  \n",
       "1741062                    89732.0             N                    N  \n",
       "\n",
       "[1741063 rows x 78 columns]"
      ]
     },
     "execution_count": 7,
     "metadata": {},
     "output_type": "execute_result"
    }
   ],
   "source": [
    "reduce_mem_usage(df,int_cast=False)"
   ]
  },
  {
   "cell_type": "code",
   "execution_count": 8,
   "metadata": {
    "ExecuteTime": {
     "end_time": "2021-04-21T06:20:28.566571Z",
     "start_time": "2021-04-21T06:20:28.551586Z"
    },
    "scrolled": true
   },
   "outputs": [
    {
     "name": "stdout",
     "output_type": "stream",
     "text": [
      "<class 'pandas.core.frame.DataFrame'>\n",
      "RangeIndex: 1741063 entries, 0 to 1741062\n",
      "Data columns (total 78 columns):\n",
      " #   Column                      Dtype  \n",
      "---  ------                      -----  \n",
      " 0   Unnamed: 0                  int32  \n",
      " 1   id                          int32  \n",
      " 2   loan_amnt                   float16\n",
      " 3   term                        object \n",
      " 4   int_rate                    object \n",
      " 5   installment                 float16\n",
      " 6   grade                       object \n",
      " 7   sub_grade                   object \n",
      " 8   emp_title                   object \n",
      " 9   emp_length                  object \n",
      " 10  home_ownership              object \n",
      " 11  annual_inc                  float32\n",
      " 12  verification_status         object \n",
      " 13  issue_d                     object \n",
      " 14  loan_status                 object \n",
      " 15  pymnt_plan                  object \n",
      " 16  url                         object \n",
      " 17  purpose                     object \n",
      " 18  title                       object \n",
      " 19  zip_code                    object \n",
      " 20  addr_state                  object \n",
      " 21  dti                         float16\n",
      " 22  delinq_2yrs                 float16\n",
      " 23  earliest_cr_line            object \n",
      " 24  fico_range_low              float16\n",
      " 25  fico_range_high             float16\n",
      " 26  inq_last_6mths              float16\n",
      " 27  pub_rec                     float16\n",
      " 28  revol_bal                   float32\n",
      " 29  revol_util                  object \n",
      " 30  total_acc                   float16\n",
      " 31  initial_list_status         object \n",
      " 32  out_prncp                   float16\n",
      " 33  total_pymnt                 float32\n",
      " 34  total_rec_prncp             float16\n",
      " 35  total_rec_int               float16\n",
      " 36  total_rec_late_fee          float16\n",
      " 37  recoveries                  float16\n",
      " 38  last_pymnt_d                object \n",
      " 39  last_pymnt_amnt             float16\n",
      " 40  last_credit_pull_d          object \n",
      " 41  last_fico_range_high        float16\n",
      " 42  last_fico_range_low         float16\n",
      " 43  collections_12_mths_ex_med  float16\n",
      " 44  policy_code                 float16\n",
      " 45  application_type            object \n",
      " 46  acc_now_delinq              float16\n",
      " 47  tot_coll_amt                float32\n",
      " 48  tot_cur_bal                 float32\n",
      " 49  acc_open_past_24mths        float16\n",
      " 50  avg_cur_bal                 float32\n",
      " 51  bc_util                     float16\n",
      " 52  chargeoff_within_12_mths    float16\n",
      " 53  delinq_amnt                 float32\n",
      " 54  mo_sin_old_il_acct          float16\n",
      " 55  mo_sin_old_rev_tl_op        float16\n",
      " 56  mo_sin_rcnt_rev_tl_op       float16\n",
      " 57  mo_sin_rcnt_tl              float16\n",
      " 58  mort_acc                    float16\n",
      " 59  mths_since_recent_bc        float16\n",
      " 60  mths_since_recent_inq       float16\n",
      " 61  num_accts_ever_120_pd       float16\n",
      " 62  num_bc_sats                 float16\n",
      " 63  num_bc_tl                   float16\n",
      " 64  num_il_tl                   float16\n",
      " 65  num_op_rev_tl               float16\n",
      " 66  num_tl_120dpd_2m            float16\n",
      " 67  num_tl_30dpd                float16\n",
      " 68  num_tl_90g_dpd_24m          float16\n",
      " 69  num_tl_op_past_12m          float16\n",
      " 70  pct_tl_nvr_dlq              float16\n",
      " 71  pub_rec_bankruptcies        float16\n",
      " 72  tax_liens                   float16\n",
      " 73  total_bal_ex_mort           float32\n",
      " 74  total_bc_limit              float32\n",
      " 75  total_il_high_credit_limit  float32\n",
      " 76  hardship_flag               object \n",
      " 77  debt_settlement_flag        object \n",
      "dtypes: float16(42), float32(10), int32(2), object(24)\n",
      "memory usage: 538.0+ MB\n"
     ]
    }
   ],
   "source": [
    "df.info()"
   ]
  },
  {
   "cell_type": "code",
   "execution_count": 9,
   "metadata": {
    "ExecuteTime": {
     "end_time": "2021-04-21T06:24:32.034407Z",
     "start_time": "2021-04-21T06:24:30.459405Z"
    }
   },
   "outputs": [
    {
     "data": {
      "text/plain": [
       "([<matplotlib.axis.YTick at 0x1fa3790e580>,\n",
       "  <matplotlib.axis.YTick at 0x1fa3790e160>,\n",
       "  <matplotlib.axis.YTick at 0x1fa569ec3a0>,\n",
       "  <matplotlib.axis.YTick at 0x1fa569ec880>,\n",
       "  <matplotlib.axis.YTick at 0x1fa569ecd90>,\n",
       "  <matplotlib.axis.YTick at 0x1fa597a72e0>,\n",
       "  <matplotlib.axis.YTick at 0x1fa597a77f0>,\n",
       "  <matplotlib.axis.YTick at 0x1fa597a7d00>],\n",
       " [Text(0, 0, ''),\n",
       "  Text(0, 0, ''),\n",
       "  Text(0, 0, ''),\n",
       "  Text(0, 0, ''),\n",
       "  Text(0, 0, ''),\n",
       "  Text(0, 0, ''),\n",
       "  Text(0, 0, ''),\n",
       "  Text(0, 0, '')])"
      ]
     },
     "execution_count": 9,
     "metadata": {},
     "output_type": "execute_result"
    },
    {
     "data": {
      "image/png": "[encoded data removed]",
      "text/plain": [
       "<Figure size 864x576 with 1 Axes>"
      ]
     },
     "metadata": {
      "needs_background": "light"
     },
     "output_type": "display_data"
    }
   ],
   "source": [
    "fig,ax = plt.subplots(figsize=(12,8))\n",
    "sns.histplot(data=df.isna().mean(),bins=20)\n",
    "plt.xticks(np.linspace(0,.15,16))\n",
    "plt.title(\"Histogram of Nan Values as % of Column\")\n",
    "plt.xlabel('% of Rows with NaN Values')\n",
    "plt.yticks(np.linspace(0,70,8))"
   ]
  },
  {
   "cell_type": "code",
   "execution_count": 16,
   "metadata": {
    "ExecuteTime": {
     "end_time": "2021-04-21T06:25:49.483301Z",
     "start_time": "2021-04-21T06:25:48.131302Z"
    }
   },
   "outputs": [
    {
     "data": {
      "text/plain": [
       "emp_title             0.07\n",
       "emp_length            0.06\n",
       "num_tl_120dpd_2m      0.04\n",
       "mo_sin_old_il_acct    0.03\n",
       "last_pymnt_d          0.00\n",
       "dtype: float64"
      ]
     },
     "execution_count": 16,
     "metadata": {},
     "output_type": "execute_result"
    }
   ],
   "source": [
    "#remaining features with significant NA values to handle\n",
    "na_check(df).head(5)"
   ]
  },
  {
   "cell_type": "code",
   "execution_count": 11,
   "metadata": {
    "ExecuteTime": {
     "end_time": "2021-04-21T06:24:39.483405Z",
     "start_time": "2021-04-21T06:24:39.426405Z"
    }
   },
   "outputs": [],
   "source": [
    "mths_weights = list(df['mths_since_recent_inq'].value_counts(normalize=True,dropna=True))\n",
    "mths_vals = list(df['mths_since_recent_inq'].value_counts(normalize=True,dropna=True).index)\n"
   ]
  },
  {
   "cell_type": "code",
   "execution_count": 12,
   "metadata": {
    "ExecuteTime": {
     "end_time": "2021-04-21T06:24:45.312405Z",
     "start_time": "2021-04-21T06:24:40.233407Z"
    }
   },
   "outputs": [],
   "source": [
    "df['mths_since_recent_inq'] = df['mths_since_recent_inq'].apply(lambda x: \n",
    "                                                                np.random.choice(mths_vals,p=mths_weights) if np.isnan(x) else x)"
   ]
  },
  {
   "cell_type": "code",
   "execution_count": 13,
   "metadata": {
    "ExecuteTime": {
     "end_time": "2021-04-21T06:24:46.661405Z",
     "start_time": "2021-04-21T06:24:46.062405Z"
    }
   },
   "outputs": [
    {
     "data": {
      "image/png": "[encoded data removed]",
      "text/plain": [
       "<Figure size 864x576 with 1 Axes>"
      ]
     },
     "metadata": {
      "needs_background": "light"
     },
     "output_type": "display_data"
    }
   ],
   "source": [
    "fig,ax = plt.subplots(figsize=(12,8))\n",
    "charge_off_rates = df.groupby('mths_since_recent_inq')['loan_status'].value_counts(normalize=True).loc[:,'Charged Off']\n",
    "sns.barplot(x=charge_off_rates.index, y=charge_off_rates.values, color='royalblue', saturation=1,)\n",
    "plt.xlabel('Months Since Recent Inquiry')\n",
    "plt.ylabel('Charged Off %')\n",
    "plt.title('Months Since Recent Inquiry vs % Charged Off')\n",
    "\n",
    "plt.tight_layout()"
   ]
  },
  {
   "cell_type": "markdown",
   "metadata": {},
   "source": [
    "Graph shows us that overtime if there hasnt been an inquiry then they are less likely to charge off their loan"
   ]
  },
  {
   "cell_type": "code",
   "execution_count": 15,
   "metadata": {
    "ExecuteTime": {
     "end_time": "2021-04-21T06:25:21.966179Z",
     "start_time": "2021-04-21T06:25:21.947179Z"
    }
   },
   "outputs": [
    {
     "data": {
      "text/plain": [
       "'The job title supplied by the Borrower when applying for the loan.*'"
      ]
     },
     "execution_count": 15,
     "metadata": {},
     "output_type": "execute_result"
    }
   ],
   "source": [
    "column_info('emp_title')"
   ]
  },
  {
   "cell_type": "code",
   "execution_count": 17,
   "metadata": {
    "ExecuteTime": {
     "end_time": "2021-04-21T06:25:57.975304Z",
     "start_time": "2021-04-21T06:25:57.306302Z"
    }
   },
   "outputs": [
    {
     "data": {
      "text/plain": [
       "Teacher                        29823\n",
       "Manager                        27324\n",
       "Owner                          15298\n",
       "Registered Nurse               12225\n",
       "RN                             11793\n",
       "                               ...  \n",
       "GL Bookkeeper                      1\n",
       "EXECUTIVE PASTOR                   1\n",
       "Ga Dept of Transportation          1\n",
       "Pouschine Cook Capital             1\n",
       "Sr International Accountant        1\n",
       "Name: emp_title, Length: 410817, dtype: int64"
      ]
     },
     "execution_count": 17,
     "metadata": {},
     "output_type": "execute_result"
    }
   ],
   "source": [
    "df.emp_title.value_counts()"
   ]
  },
  {
   "cell_type": "code",
   "execution_count": 18,
   "metadata": {
    "ExecuteTime": {
     "end_time": "2021-04-21T06:26:07.091301Z",
     "start_time": "2021-04-21T06:26:06.538302Z"
    }
   },
   "outputs": [],
   "source": [
    "#Too many unique titles to run as dummy variables as shown below 410k will drop\n",
    "df.drop(columns='emp_title',axis=1,inplace=True)"
   ]
  },
  {
   "cell_type": "code",
   "execution_count": 19,
   "metadata": {
    "ExecuteTime": {
     "end_time": "2021-04-21T06:26:09.313316Z",
     "start_time": "2021-04-21T06:26:09.186302Z"
    }
   },
   "outputs": [
    {
     "data": {
      "text/plain": [
       "10+ years    577115\n",
       "2 years      157469\n",
       "< 1 year     143287\n",
       "3 years      139470\n",
       "1 year       113914\n",
       "NaN          109077\n",
       "5 years      107285\n",
       "4 years      103825\n",
       "6 years       79175\n",
       "8 years       74087\n",
       "7 years       73084\n",
       "9 years       63275\n",
       "Name: emp_length, dtype: int64"
      ]
     },
     "execution_count": 19,
     "metadata": {},
     "output_type": "execute_result"
    }
   ],
   "source": [
    "df['emp_length'].value_counts(dropna=False)"
   ]
  },
  {
   "cell_type": "code",
   "execution_count": 20,
   "metadata": {
    "ExecuteTime": {
     "end_time": "2021-04-21T06:26:12.548301Z",
     "start_time": "2021-04-21T06:26:12.290302Z"
    }
   },
   "outputs": [],
   "source": [
    "emp_length_weight = list(df['emp_length'].value_counts(normalize=True,dropna=True))\n",
    "emp_len_index = list(df['emp_length'].value_counts(normalize=True,dropna=True).index)"
   ]
  },
  {
   "cell_type": "code",
   "execution_count": 21,
   "metadata": {
    "ExecuteTime": {
     "end_time": "2021-04-21T06:26:13.180301Z",
     "start_time": "2021-04-21T06:26:13.117303Z"
    }
   },
   "outputs": [],
   "source": [
    "df['emp_length'].fillna(value='x',inplace=True)"
   ]
  },
  {
   "cell_type": "code",
   "execution_count": 22,
   "metadata": {
    "ExecuteTime": {
     "end_time": "2021-04-21T06:26:17.993301Z",
     "start_time": "2021-04-21T06:26:15.618302Z"
    }
   },
   "outputs": [],
   "source": [
    "df['emp_length'] = df['emp_length'].apply(lambda x: np.random.choice(emp_len_index,p=emp_length_weight) if x == \"x\" else x)"
   ]
  },
  {
   "cell_type": "code",
   "execution_count": 23,
   "metadata": {
    "ExecuteTime": {
     "end_time": "2021-04-21T06:26:21.249302Z",
     "start_time": "2021-04-21T06:26:18.567301Z"
    }
   },
   "outputs": [],
   "source": [
    "#dropping sympols before converting to int\n",
    "df['emp_length'] = df['emp_length'].apply(lambda x: str(x).replace('+','').replace('<','').replace(' years','').replace(' year','').split())"
   ]
  },
  {
   "cell_type": "code",
   "execution_count": 24,
   "metadata": {
    "ExecuteTime": {
     "end_time": "2021-04-21T06:26:22.984301Z",
     "start_time": "2021-04-21T06:26:22.000303Z"
    }
   },
   "outputs": [],
   "source": [
    "df['emp_length'] = df['emp_length'].apply(lambda x: int(x[0]) )"
   ]
  },
  {
   "cell_type": "code",
   "execution_count": 25,
   "metadata": {
    "ExecuteTime": {
     "end_time": "2021-04-21T06:26:23.543301Z",
     "start_time": "2021-04-21T06:26:23.528301Z"
    }
   },
   "outputs": [
    {
     "data": {
      "text/plain": [
       "0           4\n",
       "1           2\n",
       "2          10\n",
       "3           3\n",
       "4           4\n",
       "           ..\n",
       "1741058     1\n",
       "1741059    10\n",
       "1741060     8\n",
       "1741061     5\n",
       "1741062     4\n",
       "Name: emp_length, Length: 1741063, dtype: int64"
      ]
     },
     "execution_count": 25,
     "metadata": {},
     "output_type": "execute_result"
    }
   ],
   "source": [
    "df['emp_length']"
   ]
  },
  {
   "cell_type": "code",
   "execution_count": 26,
   "metadata": {
    "ExecuteTime": {
     "end_time": "2021-04-21T06:26:26.406303Z",
     "start_time": "2021-04-21T06:26:25.948303Z"
    }
   },
   "outputs": [
    {
     "data": {
      "image/png": "[encoded data removed]",
      "text/plain": [
       "<Figure size 864x576 with 1 Axes>"
      ]
     },
     "metadata": {
      "needs_background": "light"
     },
     "output_type": "display_data"
    }
   ],
   "source": [
    "fig,ax = plt.subplots(figsize=(12,8))\n",
    "charge_off_rates = df.groupby('emp_length')['loan_status'].value_counts(normalize=True).loc[:,'Charged Off']\n",
    "sns.barplot(x=charge_off_rates.index, y=charge_off_rates.values, color='royalblue', saturation=1,)\n",
    "plt.xlabel('Employement Length')\n",
    "plt.ylabel('Charged Off %')\n",
    "plt.title('Employment Length vs % Charged Off')\n",
    "\n",
    "plt.tight_layout()"
   ]
  },
  {
   "cell_type": "code",
   "execution_count": 27,
   "metadata": {
    "ExecuteTime": {
     "end_time": "2021-04-21T06:26:30.714304Z",
     "start_time": "2021-04-21T06:26:29.490302Z"
    }
   },
   "outputs": [
    {
     "data": {
      "text/plain": [
       "num_tl_120dpd_2m            0.04\n",
       "mo_sin_old_il_acct          0.03\n",
       "last_pymnt_d                0.00\n",
       "dti                         0.00\n",
       "last_credit_pull_d          0.00\n",
       "                            ... \n",
       "bc_util                     0.00\n",
       "chargeoff_within_12_mths    0.00\n",
       "delinq_amnt                 0.00\n",
       "mo_sin_old_rev_tl_op        0.00\n",
       "Unnamed: 0                  0.00\n",
       "Length: 77, dtype: float64"
      ]
     },
     "execution_count": 27,
     "metadata": {},
     "output_type": "execute_result"
    }
   ],
   "source": [
    "na_check(df)"
   ]
  },
  {
   "cell_type": "code",
   "execution_count": 28,
   "metadata": {
    "ExecuteTime": {
     "end_time": "2021-04-21T06:26:32.451303Z",
     "start_time": "2021-04-21T06:26:32.441303Z"
    }
   },
   "outputs": [
    {
     "data": {
      "text/plain": [
       "'Number of accounts currently 120 days past due (updated in past 2 months)'"
      ]
     },
     "execution_count": 28,
     "metadata": {},
     "output_type": "execute_result"
    }
   ],
   "source": [
    "column_info('num_tl_120dpd_2m')"
   ]
  },
  {
   "cell_type": "code",
   "execution_count": 29,
   "metadata": {
    "ExecuteTime": {
     "end_time": "2021-04-21T06:28:01.879143Z",
     "start_time": "2021-04-21T06:28:01.850142Z"
    }
   },
   "outputs": [
    {
     "data": {
      "text/plain": [
       "0.0    9.993247e-01\n",
       "1.0    6.478184e-04\n",
       "2.0    2.388271e-05\n",
       "3.0    2.388271e-06\n",
       "6.0    5.970677e-07\n",
       "4.0    5.970677e-07\n",
       "Name: num_tl_120dpd_2m, dtype: float64"
      ]
     },
     "execution_count": 29,
     "metadata": {},
     "output_type": "execute_result"
    }
   ],
   "source": [
    "df['num_tl_120dpd_2m'].value_counts(normalize=True)"
   ]
  },
  {
   "cell_type": "code",
   "execution_count": 30,
   "metadata": {
    "ExecuteTime": {
     "end_time": "2021-04-21T06:28:17.716144Z",
     "start_time": "2021-04-21T06:28:17.370142Z"
    }
   },
   "outputs": [
    {
     "data": {
      "image/png": "[encoded data removed]",
      "text/plain": [
       "<Figure size 864x576 with 1 Axes>"
      ]
     },
     "metadata": {
      "needs_background": "light"
     },
     "output_type": "display_data"
    }
   ],
   "source": [
    "fig,ax = plt.subplots(figsize=(12,8))\n",
    "charge_off_rates = df.groupby('num_tl_120dpd_2m')['loan_status'].value_counts(normalize=True).loc[:,'Charged Off']\n",
    "sns.barplot(x=charge_off_rates.index, y=charge_off_rates.values, color='royalblue', saturation=1,)\n",
    "plt.xlabel('Num of Accounts Delinquent for > 120 days')\n",
    "plt.ylabel('Charged Off %')\n",
    "plt.title('Num of Accounts Delinquent for > 120 days vs % Charged Off')\n",
    "\n",
    "plt.tight_layout()"
   ]
  },
  {
   "cell_type": "code",
   "execution_count": 31,
   "metadata": {
    "ExecuteTime": {
     "end_time": "2021-04-21T06:28:21.364181Z",
     "start_time": "2021-04-21T06:28:21.313143Z"
    }
   },
   "outputs": [],
   "source": [
    "p = list(df['num_tl_120dpd_2m'].value_counts(normalize=True,dropna=True))\n",
    "a = list(df['num_tl_120dpd_2m'].value_counts(normalize=True,dropna=True).index)"
   ]
  },
  {
   "cell_type": "code",
   "execution_count": 32,
   "metadata": {
    "ExecuteTime": {
     "end_time": "2021-04-21T06:28:24.880188Z",
     "start_time": "2021-04-21T06:28:21.925143Z"
    }
   },
   "outputs": [],
   "source": [
    "df['num_tl_120dpd_2m'] = df['num_tl_120dpd_2m'].apply(lambda x: np.random.choice(a,p=p) if np.isnan(x)  else x)"
   ]
  },
  {
   "cell_type": "code",
   "execution_count": 33,
   "metadata": {
    "ExecuteTime": {
     "end_time": "2021-04-21T06:28:26.870144Z",
     "start_time": "2021-04-21T06:28:26.129144Z"
    }
   },
   "outputs": [
    {
     "data": {
      "text/plain": [
       "<AxesSubplot:xlabel='mo_sin_old_il_acct', ylabel='loan_status'>"
      ]
     },
     "execution_count": 33,
     "metadata": {},
     "output_type": "execute_result"
    },
    {
     "data": {
      "image/png": "[encoded data removed]",
      "text/plain": [
       "<Figure size 432x288 with 1 Axes>"
      ]
     },
     "metadata": {
      "needs_background": "light"
     },
     "output_type": "display_data"
    }
   ],
   "source": [
    "sns.boxplot(x='mo_sin_old_il_acct',y='loan_status',data=df)"
   ]
  },
  {
   "cell_type": "code",
   "execution_count": 34,
   "metadata": {
    "ExecuteTime": {
     "end_time": "2021-04-21T06:28:32.121543Z",
     "start_time": "2021-04-21T06:28:32.105543Z"
    }
   },
   "outputs": [
    {
     "data": {
      "text/plain": [
       "'Months since oldest bank installment account opened'"
      ]
     },
     "execution_count": 34,
     "metadata": {},
     "output_type": "execute_result"
    }
   ],
   "source": [
    "column_info('mo_sin_old_il_acct')"
   ]
  },
  {
   "cell_type": "code",
   "execution_count": 35,
   "metadata": {
    "ExecuteTime": {
     "end_time": "2021-04-21T06:28:34.741594Z",
     "start_time": "2021-04-21T06:28:32.715545Z"
    }
   },
   "outputs": [
    {
     "data": {
      "text/plain": [
       "<AxesSubplot:xlabel='mo_sin_old_il_acct', ylabel='Count'>"
      ]
     },
     "execution_count": 35,
     "metadata": {},
     "output_type": "execute_result"
    },
    {
     "data": {
      "image/png": "[encoded data removed]",
      "text/plain": [
       "<Figure size 864x576 with 1 Axes>"
      ]
     },
     "metadata": {
      "needs_background": "light"
     },
     "output_type": "display_data"
    }
   ],
   "source": [
    "fig,ax = plt.subplots(figsize=(12,8))\n",
    "sns.histplot(df.loc[df['mo_sin_old_il_acct'].notnull(), 'mo_sin_old_il_acct'], kde=False)"
   ]
  },
  {
   "cell_type": "code",
   "execution_count": 37,
   "metadata": {
    "ExecuteTime": {
     "end_time": "2021-04-21T06:28:42.514544Z",
     "start_time": "2021-04-21T06:28:40.137546Z"
    }
   },
   "outputs": [
    {
     "data": {
      "image/png": "[encoded data removed]",
      "text/plain": [
       "<Figure size 864x576 with 1 Axes>"
      ]
     },
     "metadata": {
      "needs_background": "light"
     },
     "output_type": "display_data"
    }
   ],
   "source": [
    "fig,ax = plt.subplots(figsize=(12,8))\n",
    "charge_off_rates = df.groupby('mo_sin_old_il_acct')['loan_status'].value_counts(normalize=True).loc[:,'Charged Off']\n",
    "sns.barplot(x=charge_off_rates.index, y=charge_off_rates.values, color='royalblue', saturation=1,)\n",
    "plt.xlabel(column_info('mo_sin_old_il_acct'))\n",
    "plt.ylabel('Charged Off %')\n",
    "plt.title(column_info('mo_sin_old_il_acct')+ ' vs % Charged Off')\n",
    "plt.xticks(np.linspace(0,500,6))\n",
    "plt.tight_layout()"
   ]
  },
  {
   "cell_type": "markdown",
   "metadata": {},
   "source": [
    "All values to right of 200 are extreme outliers so will not relevant. Also making determination on oldest bank installments of 33 years prior doesn't seem to make too much sense"
   ]
  },
  {
   "cell_type": "code",
   "execution_count": 38,
   "metadata": {
    "ExecuteTime": {
     "end_time": "2021-04-21T06:28:57.044546Z",
     "start_time": "2021-04-21T06:28:56.449559Z"
    }
   },
   "outputs": [],
   "source": [
    "df.drop(columns=['mo_sin_old_il_acct'],axis=1,inplace=True)"
   ]
  },
  {
   "cell_type": "code",
   "execution_count": 39,
   "metadata": {
    "ExecuteTime": {
     "end_time": "2021-04-21T06:29:00.129725Z",
     "start_time": "2021-04-21T06:28:57.962722Z"
    }
   },
   "outputs": [],
   "source": [
    "#for cols with insignificant amount of nas missing\n",
    "df.dropna(inplace=True)"
   ]
  },
  {
   "cell_type": "code",
   "execution_count": 40,
   "metadata": {
    "ExecuteTime": {
     "end_time": "2021-04-21T06:30:16.580365Z",
     "start_time": "2021-04-21T06:29:00.961859Z"
    }
   },
   "outputs": [],
   "source": [
    "#now that there are no na values will start feature inspection here with this file\n",
    "df.to_csv('data/preprocessed.csv')"
   ]
  }
 ],
 "metadata": {
  "kernelspec": {
   "display_name": "Python 3",
   "language": "python",
   "name": "python3"
  },
  "language_info": {
   "codemirror_mode": {
    "name": "ipython",
    "version": 3
   },
   "file_extension": ".py",
   "mimetype": "text/x-python",
   "name": "python",
   "nbconvert_exporter": "python",
   "pygments_lexer": "ipython3",
   "version": "3.8.5"
  },
  "latex_envs": {
   "LaTeX_envs_menu_present": true,
   "autoclose": false,
   "autocomplete": true,
   "bibliofile": "biblio.bib",
   "cite_by": "apalike",
   "current_citInitial": 1,
   "eqLabelWithNumbers": true,
   "eqNumInitial": 1,
   "hotkeys": {
    "equation": "Ctrl-E",
    "itemize": "Ctrl-I"
   },
   "labels_anchors": false,
   "latex_user_defs": false,
   "report_style_numbering": false,
   "user_envs_cfg": false
  },
  "toc": {
   "base_numbering": 1,
   "nav_menu": {},
   "number_sections": true,
   "sideBar": true,
   "skip_h1_title": false,
   "title_cell": "Table of Contents",
   "title_sidebar": "Contents",
   "toc_cell": false,
   "toc_position": {},
   "toc_section_display": true,
   "toc_window_display": false
  },
  "varInspector": {
   "cols": {
    "lenName": 16,
    "lenType": 16,
    "lenVar": 40
   },
   "kernels_config": {
    "python": {
     "delete_cmd_postfix": "",
     "delete_cmd_prefix": "del ",
     "library": "var_list.py",
     "varRefreshCmd": "print(var_dic_list())"
    },
    "r": {
     "delete_cmd_postfix": ") ",
     "delete_cmd_prefix": "rm(",
     "library": "var_list.r",
     "varRefreshCmd": "cat(var_dic_list()) "
    }
   },
   "position": {
    "height": "862.205px",
    "left": "1588.89px",
    "right": "20px",
    "top": "120px",
    "width": "350px"
   },
   "types_to_exclude": [
    "module",
    "function",
    "builtin_function_or_method",
    "instance",
    "_Feature"
   ],
   "window_display": true
  }
 },
 "nbformat": 4,
 "nbformat_minor": 4
}
